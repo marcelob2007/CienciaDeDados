{
  "nbformat": 4,
  "nbformat_minor": 0,
  "metadata": {
    "colab": {
      "name": "Aula_04_DesafioF_Marcelo_Soares.ipynb",
      "provenance": [],
      "collapsed_sections": [],
      "include_colab_link": true
    },
    "kernelspec": {
      "name": "python3",
      "display_name": "Python 3"
    }
  },
  "cells": [
    {
      "cell_type": "markdown",
      "metadata": {
        "id": "view-in-github",
        "colab_type": "text"
      },
      "source": [
        "<a href=\"https://colab.research.google.com/github/marcelob2007/CienciaDeDados/blob/main/Aula_04_DesafioF_Marcelo_Soares.ipynb\" target=\"_parent\"><img src=\"https://colab.research.google.com/assets/colab-badge.svg\" alt=\"Open In Colab\"/></a>"
      ]
    },
    {
      "cell_type": "code",
      "metadata": {
        "id": "3hrLRd5pP5bK"
      },
      "source": [
        "import pandas as pd\n",
        "df = pd.read_csv('https://raw.githubusercontent.com/Alinemm/DMIE-2020.1/master/DesafioA-cursos-prouni-pb-jpa.csv')"
      ],
      "execution_count": 1,
      "outputs": []
    },
    {
      "cell_type": "code",
      "metadata": {
        "id": "JLNZoTgJQf2W"
      },
      "source": [
        "df"
      ],
      "execution_count": null,
      "outputs": []
    },
    {
      "cell_type": "code",
      "metadata": {
        "id": "S8MRUuLbQpGE"
      },
      "source": [
        "#valor média das instituições da PB\n",
        "df.mensalidade.mean()"
      ],
      "execution_count": null,
      "outputs": []
    },
    {
      "cell_type": "code",
      "metadata": {
        "id": "vqZsTc35UAaY"
      },
      "source": [
        "#valor mediana das instituições da PB\n",
        "df.mensalidade.median()"
      ],
      "execution_count": null,
      "outputs": []
    },
    {
      "cell_type": "code",
      "metadata": {
        "id": "3-1DOjt3UJZ7"
      },
      "source": [
        "#desvio padrao das instituições da PB\n",
        "df.mensalidade.std()"
      ],
      "execution_count": null,
      "outputs": []
    },
    {
      "cell_type": "code",
      "metadata": {
        "id": "lKwf8lllUO-m"
      },
      "source": [
        "#moda das instituições da PB\n",
        "df.mensalidade.mode()"
      ],
      "execution_count": null,
      "outputs": []
    },
    {
      "cell_type": "markdown",
      "metadata": {
        "id": "HgACVAnRbgqd"
      },
      "source": [
        "---------"
      ]
    },
    {
      "cell_type": "markdown",
      "metadata": {
        "id": "wb6RLejfoB_T"
      },
      "source": [
        "Desafio B"
      ]
    },
    {
      "cell_type": "code",
      "metadata": {
        "id": "j5ybD4fdUSrQ"
      },
      "source": [
        "df.columns"
      ],
      "execution_count": null,
      "outputs": []
    },
    {
      "cell_type": "code",
      "metadata": {
        "id": "HLy8QrWQbjYF"
      },
      "source": [
        "#A\n",
        "type(df)"
      ],
      "execution_count": null,
      "outputs": []
    },
    {
      "cell_type": "code",
      "metadata": {
        "id": "c9vzBxWYb9lw"
      },
      "source": [
        "#B\n",
        "df.shape"
      ],
      "execution_count": null,
      "outputs": []
    },
    {
      "cell_type": "code",
      "metadata": {
        "id": "2ODP3Dk6cNxm"
      },
      "source": [
        "#C\n",
        "df.universidade_nome.nunique()"
      ],
      "execution_count": null,
      "outputs": []
    },
    {
      "cell_type": "code",
      "metadata": {
        "id": "B80t2fITcWVz"
      },
      "source": [
        "#D\n",
        "df.nome.nunique()"
      ],
      "execution_count": null,
      "outputs": []
    },
    {
      "cell_type": "code",
      "metadata": {
        "id": "CGP6GWR8ecKx"
      },
      "source": [
        "#E\n",
        "df.universidade_nome[(df.nome=='Ciência da Computação') | (df.nome=='Ciências da Computação')].unique()"
      ],
      "execution_count": null,
      "outputs": []
    },
    {
      "cell_type": "code",
      "metadata": {
        "id": "wyaiO1jieOAB"
      },
      "source": [
        "#F\n",
        "df.mensalidade[(df.nome=='Ciência da Computação') | (df.nome=='Ciências da Computação')].mean()"
      ],
      "execution_count": null,
      "outputs": []
    },
    {
      "cell_type": "markdown",
      "metadata": {
        "id": "W8a3gyFUy1da"
      },
      "source": [
        "\n",
        "\n",
        "---\n",
        "\n"
      ]
    },
    {
      "cell_type": "markdown",
      "metadata": {
        "id": "9nr2YbaXoGWh"
      },
      "source": [
        "Desafio C"
      ]
    },
    {
      "cell_type": "code",
      "metadata": {
        "id": "_Yff7MxDyzuu"
      },
      "source": [
        "#Desafio C - Detecção de outliers\n",
        "df.isna().mean()"
      ],
      "execution_count": null,
      "outputs": []
    },
    {
      "cell_type": "code",
      "metadata": {
        "id": "v5LBrHgQzFOL"
      },
      "source": [
        "#Estratégia 1\n",
        "print(\"média da mensalidade: \",df.mensalidade.mean())\n",
        "print(\"mediana da mensalidade: \",df.mensalidade.median())\n",
        "\n",
        "print(\"\\nmédia da nota_integral_ampla: \",df.nota_integral_ampla.mean())\n",
        "print(\"mediana da nota_integral_ampla: \",df.nota_integral_ampla.median())\n",
        "\n",
        "print(\"\\nmédia da nota_integral_cotas: \",df.nota_integral_cotas.mean())\n",
        "print(\"mediana da nota_integral_cotas: \",df.nota_integral_cotas.median())"
      ],
      "execution_count": null,
      "outputs": []
    },
    {
      "cell_type": "code",
      "metadata": {
        "id": "M0r6JDXZy0py"
      },
      "source": [
        "#Estratégia 2\n",
        "print(\"desvio padrão da mensalidade: \",df.mensalidade.std())\n",
        "print(\"\\ndesvio padrão da nota_integral_ampla: \",df.nota_integral_ampla.std())\n",
        "print(\"\\ndesvio padrão da nota_integral_cotas: \",df.nota_integral_cotas.std())"
      ],
      "execution_count": null,
      "outputs": []
    },
    {
      "cell_type": "code",
      "metadata": {
        "id": "lhwDMoOc3D3T"
      },
      "source": [
        "#Estratégia 3\n",
        "from scipy import stats\n",
        "import numpy as np\n",
        "\n",
        "df['zscore_mensalidade'] = np.abs(stats.zscore(df.mensalidade))\n",
        "df['zscore_nota_integral_ampla'] = np.abs(stats.zscore(df.nota_integral_ampla))\n",
        "df['zscore_nota_integral_cotas'] = np.abs(stats.zscore(df.nota_integral_cotas))"
      ],
      "execution_count": null,
      "outputs": []
    },
    {
      "cell_type": "code",
      "metadata": {
        "id": "azyXdjY439-1"
      },
      "source": [
        "df.zscore_mensalidade[(df.zscore_mensalidade> 3) | (df.zscore_mensalidade <-3)].count()"
      ],
      "execution_count": null,
      "outputs": []
    },
    {
      "cell_type": "code",
      "metadata": {
        "id": "EK9AlUMw30X0"
      },
      "source": [
        "df.zscore_nota_integral_ampla[(df.zscore_nota_integral_ampla> 3) | (df.zscore_nota_integral_ampla <-3)].count()"
      ],
      "execution_count": null,
      "outputs": []
    },
    {
      "cell_type": "code",
      "metadata": {
        "id": "TkNL7cTg4ra0"
      },
      "source": [
        "df.zscore_nota_integral_cotas[(df.zscore_nota_integral_cotas> 3) | (df.zscore_nota_integral_cotas <-3)].count()"
      ],
      "execution_count": null,
      "outputs": []
    },
    {
      "cell_type": "code",
      "metadata": {
        "id": "tS_vNAIg4vLt"
      },
      "source": [
        "#Estratégia 4 - Boxplot\n",
        "\n",
        "import seaborn as sns\n",
        "import matplotlib.pyplot as plt\n",
        "\n",
        "sns.boxplot(data=df.mensalidade)"
      ],
      "execution_count": null,
      "outputs": []
    },
    {
      "cell_type": "code",
      "metadata": {
        "id": "V5Vf4Cg146nk"
      },
      "source": [
        "sns.boxplot(data=df.nota_integral_ampla)"
      ],
      "execution_count": null,
      "outputs": []
    },
    {
      "cell_type": "code",
      "metadata": {
        "id": "Up_jZGrh5AFT"
      },
      "source": [
        "sns.boxplot(data=df.nota_integral_cotas)"
      ],
      "execution_count": null,
      "outputs": []
    },
    {
      "cell_type": "markdown",
      "metadata": {
        "id": "RrknyWkv6afV"
      },
      "source": [
        "Tratando os outliers"
      ]
    },
    {
      "cell_type": "code",
      "metadata": {
        "id": "AyUGTIhy5DSu"
      },
      "source": [
        "#Estratégia 1\n",
        "df_semOutliers1 = df[(df.zscore_mensalidade<3) & (df.zscore_mensalidade> -3)]"
      ],
      "execution_count": null,
      "outputs": []
    },
    {
      "cell_type": "code",
      "metadata": {
        "id": "VBqgCv-R6kto"
      },
      "source": [
        "#Estratégia 2\n",
        "df_semOutliers2 =  df\n",
        "df_semOutliers2.mensalidade = np.where((df_semOutliers2.zscore_mensalidade>3) | (df_semOutliers2.zscore_mensalidade<-3), \n",
        "                                       df_semOutliers2.mensalidade.mean(), \n",
        "                                       df_semOutliers2.mensalidade)\n"
      ],
      "execution_count": null,
      "outputs": []
    },
    {
      "cell_type": "code",
      "metadata": {
        "id": "FkTTzBPY7Pwl"
      },
      "source": [
        "#Estratégia 3\n",
        "df_semOutliers3 = df\n",
        "df_semOutliers3 = df_semOutliers3[df_semOutliers3.mensalidade.between(df.mensalidade.quantile(.25), df.mensalidade.quantile(.75))]\n",
        "print(df_semOutliers3.shape)\n",
        "print(max(df_semOutliers3.mensalidade))"
      ],
      "execution_count": null,
      "outputs": []
    },
    {
      "cell_type": "code",
      "metadata": {
        "id": "59IjylC78E2D"
      },
      "source": [
        "print(df.shape)\n",
        "print(max(df.mensalidade))\n"
      ],
      "execution_count": null,
      "outputs": []
    },
    {
      "cell_type": "markdown",
      "metadata": {
        "id": "rKmFjuiaBu4a"
      },
      "source": [
        "\n",
        "\n",
        "---\n",
        "\n"
      ]
    },
    {
      "cell_type": "markdown",
      "metadata": {
        "id": "M5IIE9Oh-aDy"
      },
      "source": [
        "Desafio F"
      ]
    },
    {
      "cell_type": "code",
      "metadata": {
        "id": "_6Gb6jBv8XYQ",
        "colab": {
          "base_uri": "https://localhost:8080/",
          "height": 1000
        },
        "outputId": "1e68a901-2ec4-423d-f4df-8672ef60f29f"
      },
      "source": [
        "# Primeiro método - geração de histogramas\n",
        "import matplotlib.pyplot as plt\n",
        "\n",
        "fig = plt.figure(figsize= (15,20))\n",
        "ax = fig.gca()\n",
        "hist = df.hist(bins=3, ax=ax)"
      ],
      "execution_count": 2,
      "outputs": [
        {
          "output_type": "stream",
          "name": "stderr",
          "text": [
            "/usr/local/lib/python3.7/dist-packages/ipykernel_launcher.py:6: UserWarning: To output multiple subplots, the figure containing the passed axes is being cleared\n",
            "  \n"
          ]
        },
        {
          "output_type": "display_data",
          "data": {
            "text/plain": [
              "<Figure size 1080x1440 with 9 Axes>"
            ],
            "image/png": "[encoded data removed]"
          },
          "metadata": {
            "needs_background": "light"
          }
        }
      ]
    },
    {
      "cell_type": "code",
      "metadata": {
        "id": "yCTVKj8k_RyI",
        "colab": {
          "base_uri": "https://localhost:8080/",
          "height": 592
        },
        "outputId": "a61fb1e6-7fe3-4365-c125-dd770210f68b"
      },
      "source": [
        "#2 método - boxplot\n",
        "\n",
        "fig = plt.figure(figsize=(10,10))\n",
        "ax = fig.gca()\n",
        "\n",
        "boxplot = df.boxplot(column=['mensalidade',\n",
        "                            ],\n",
        "                            ax=ax, )"
      ],
      "execution_count": 15,
      "outputs": [
        {
          "output_type": "display_data",
          "data": {
            "text/plain": [
              "<Figure size 720x720 with 1 Axes>"
            ],
            "image/png": "[encoded data removed]"
          },
          "metadata": {
            "needs_background": "light"
          }
        }
      ]
    },
    {
      "cell_type": "code",
      "metadata": {
        "id": "sRXrNQ8H_RqJ",
        "colab": {
          "base_uri": "https://localhost:8080/",
          "height": 295
        },
        "outputId": "e0b84019-9201-4cf1-eafa-2862ee1898a5"
      },
      "source": [
        "#3 método - QQplot\n",
        "\n",
        "import pylab\n",
        "import scipy.stats as stats\n",
        "\n",
        "stats.probplot(df.mensalidade, dist=\"norm\",plot=pylab)\n",
        "pylab.show()"
      ],
      "execution_count": 9,
      "outputs": [
        {
          "output_type": "display_data",
          "data": {
            "text/plain": [
              "<Figure size 432x288 with 1 Axes>"
            ],
            "image/png": "[encoded data removed]"
          },
          "metadata": {
            "needs_background": "light"
          }
        }
      ]
    },
    {
      "cell_type": "code",
      "metadata": {
        "id": "U55D-YIeBiPp",
        "colab": {
          "base_uri": "https://localhost:8080/"
        },
        "outputId": "cd149742-080d-4845-8cdc-f8c9ce028671"
      },
      "source": [
        "#4 método - KS\n",
        "\n",
        "from scipy.stats import kstest\n",
        "\n",
        "kstest(df.mensalidade, 'norm')\n",
        "\n",
        "\n",
        "# é normal?"
      ],
      "execution_count": 16,
      "outputs": [
        {
          "output_type": "execute_result",
          "data": {
            "text/plain": [
              "KstestResult(statistic=1.0, pvalue=0.0)"
            ]
          },
          "metadata": {},
          "execution_count": 16
        }
      ]
    },
    {
      "cell_type": "code",
      "metadata": {
        "id": "dE0cBk4VCsD4",
        "colab": {
          "base_uri": "https://localhost:8080/"
        },
        "outputId": "938171ba-9196-412e-d5df-cc331930083a"
      },
      "source": [
        "#5 método - método de lilliefors\n",
        "from statsmodels.stats.diagnostic import lilliefors\n",
        "\n",
        "lilliefors(df.mensalidade)"
      ],
      "execution_count": 17,
      "outputs": [
        {
          "output_type": "stream",
          "name": "stderr",
          "text": [
            "/usr/local/lib/python3.7/dist-packages/statsmodels/tools/_testing.py:19: FutureWarning: pandas.util.testing is deprecated. Use the functions in the public API at pandas.testing instead.\n",
            "  import pandas.util.testing as tm\n"
          ]
        },
        {
          "output_type": "execute_result",
          "data": {
            "text/plain": [
              "(0.2516123813493612, 4.7580946592433724e-64)"
            ]
          },
          "metadata": {},
          "execution_count": 17
        }
      ]
    },
    {
      "cell_type": "code",
      "metadata": {
        "id": "5R8t5p6zGphs",
        "colab": {
          "base_uri": "https://localhost:8080/"
        },
        "outputId": "44033a3d-74a6-40be-8fd3-0d888d9dbf1d"
      },
      "source": [
        "#6 método - Shapiro\n",
        "from scipy.stats import shapiro\n",
        "\n",
        "shapiro(df.mensalidade)"
      ],
      "execution_count": 18,
      "outputs": [
        {
          "output_type": "execute_result",
          "data": {
            "text/plain": [
              "(0.42161989212036133, 2.403652317929352e-32)"
            ]
          },
          "metadata": {},
          "execution_count": 18
        }
      ]
    },
    {
      "cell_type": "code",
      "metadata": {
        "id": "bt4EMbKLG7IF",
        "colab": {
          "base_uri": "https://localhost:8080/"
        },
        "outputId": "58e04f1a-fff7-41d4-d298-758fc33f81e6"
      },
      "source": [
        "#7 método - teste de Kurtosis e Skewness\n",
        "import scipy.stats as stats\n",
        "\n",
        "stats.normaltest(df.mensalidade)"
      ],
      "execution_count": 19,
      "outputs": [
        {
          "output_type": "execute_result",
          "data": {
            "text/plain": [
              "NormaltestResult(statistic=514.980825526912, pvalue=1.4905089694701416e-112)"
            ]
          },
          "metadata": {},
          "execution_count": 19
        }
      ]
    }
  ]
}