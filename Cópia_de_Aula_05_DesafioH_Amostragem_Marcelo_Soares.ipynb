{
  "nbformat": 4,
  "nbformat_minor": 0,
  "metadata": {
    "colab": {
      "name": "Cópia de Aula_05_DesafioH_Amostragem_Marcelo_Soares.ipynb",
      "provenance": [],
      "collapsed_sections": [],
      "include_colab_link": true
    },
    "kernelspec": {
      "name": "python3",
      "display_name": "Python 3"
    }
  },
  "cells": [
    {
      "cell_type": "markdown",
      "metadata": {
        "id": "view-in-github",
        "colab_type": "text"
      },
      "source": [
        "<a href=\"https://colab.research.google.com/github/marcelob2007/CienciaDeDados/blob/main/C%C3%B3pia_de_Aula_05_DesafioH_Amostragem_Marcelo_Soares.ipynb\" target=\"_parent\"><img src=\"https://colab.research.google.com/assets/colab-badge.svg\" alt=\"Open In Colab\"/></a>"
      ]
    },
    {
      "cell_type": "code",
      "metadata": {
        "id": "3hrLRd5pP5bK"
      },
      "source": [
        "import pandas as pd\n",
        "df = pd.read_csv('https://raw.githubusercontent.com/Alinemm/DMIE-2020.1/master/DesafioA-cursos-prouni-pb-jpa.csv')"
      ],
      "execution_count": 52,
      "outputs": []
    },
    {
      "cell_type": "code",
      "metadata": {
        "id": "JLNZoTgJQf2W",
        "colab": {
          "base_uri": "https://localhost:8080/",
          "height": 956
        },
        "outputId": "042f68f3-480a-465f-db32-86bc3e670e93"
      },
      "source": [
        "df"
      ],
      "execution_count": 42,
      "outputs": [
        {
          "output_type": "execute_result",
          "data": {
            "text/plain": [
              "    uf_busca cidade_busca                                  universidade_nome  \\\n",
              "0         PB  Joao Pessoa  Centro Universitário de João Pessoa - Unipê - ...   \n",
              "1         PB  Joao Pessoa  Centro Universitário Internacional - Uninter -...   \n",
              "2         PB  Joao Pessoa  Centro Universitário Internacional - Uninter -...   \n",
              "3         PB  Joao Pessoa                 Faculdade Devry João Pessoa - DVJP   \n",
              "4         PB  Joao Pessoa                 Faculdade Devry João Pessoa - DVJP   \n",
              "..       ...          ...                                                ...   \n",
              "355       PB  Joao Pessoa  Centro Universitário Internacional - Uninter -...   \n",
              "356       PB  Joao Pessoa  Centro Universitário Internacional - Uninter -...   \n",
              "357       PB  Joao Pessoa             Universidade Cruzeiro do Sul - UNICSUL   \n",
              "358       PB  Joao Pessoa                          Faculdade Paraíbana - FAP   \n",
              "359       PB  Joao Pessoa     Instituto Paraibano de Ensino Renovado - INPER   \n",
              "\n",
              "                                           campus_nome           nome  \\\n",
              "0                             CAMPUS UNIPÊ - Água Fria  Administração   \n",
              "1                         PAP JOÃO PESSOA 01 - Miramar  Administração   \n",
              "2                 PAP JOÃO PESSOA 02 - Expedicionários  Administração   \n",
              "3                                CAMPUS SEDE - Miramar  Administração   \n",
              "4                                CAMPUS SEDE - Miramar  Administração   \n",
              "..                                                 ...            ...   \n",
              "355                       PAP JOÃO PESSOA 01 - Miramar       Teologia   \n",
              "356               PAP JOÃO PESSOA 02 - Expedicionários       Teologia   \n",
              "357              COESP - JOÃO PESSOA, PARAÍBA - Centro       Teologia   \n",
              "358          CAMPUS  - JOÃO PESSOA - MIRAMAR - Miramar        Turismo   \n",
              "359  CAMPUS  - JOÃO PESSOA - JARDIM MARIZÓPOLIS - J...        Turismo   \n",
              "\n",
              "            grau              turno  mensalidade  bolsa_integral_cotas  \\\n",
              "0    Bacharelado           Matutino       529.00                   5.0   \n",
              "1    Bacharelado  Curso a Distância       298.00                   1.0   \n",
              "2    Bacharelado  Curso a Distância       298.00                   NaN   \n",
              "3    Bacharelado            Noturno       864.67                   NaN   \n",
              "4    Bacharelado           Matutino       864.67                   NaN   \n",
              "..           ...                ...          ...                   ...   \n",
              "355  Bacharelado  Curso a Distância       189.00                   NaN   \n",
              "356  Bacharelado  Curso a Distância       189.00                   1.0   \n",
              "357  Bacharelado  Curso a Distância       256.86                   NaN   \n",
              "358  Bacharelado            Noturno       474.27                   2.0   \n",
              "359  Bacharelado            Noturno       560.89                   2.0   \n",
              "\n",
              "     bolsa_integral_ampla  bolsa_parcial_cotas  bolsa_parcial_ampla  \\\n",
              "0                     4.0                  NaN                  NaN   \n",
              "1                     NaN                  NaN                  NaN   \n",
              "2                     NaN                  1.0                  NaN   \n",
              "3                     NaN                  NaN                100.0   \n",
              "4                     NaN                  NaN                100.0   \n",
              "..                    ...                  ...                  ...   \n",
              "355                   NaN                  1.0                  NaN   \n",
              "356                   NaN                  1.0                  1.0   \n",
              "357                   NaN                  1.0                  NaN   \n",
              "358                   1.0                  NaN                  NaN   \n",
              "359                   1.0                  NaN                  NaN   \n",
              "\n",
              "     nota_integral_ampla  nota_integral_cotas  nota_parcial_ampla  \\\n",
              "0                 609.94               607.20                 NaN   \n",
              "1                 582.64                  NaN                 NaN   \n",
              "2                    NaN                  NaN              547.80   \n",
              "3                    NaN                  NaN              450.00   \n",
              "4                    NaN                  NaN              450.00   \n",
              "..                   ...                  ...                 ...   \n",
              "355                  NaN                  NaN              568.88   \n",
              "356               631.42                  NaN              604.00   \n",
              "357                  NaN                  NaN              561.42   \n",
              "358               580.22               558.24                 NaN   \n",
              "359               591.16               548.48                 NaN   \n",
              "\n",
              "     nota_parcial_cotas  \n",
              "0                   NaN  \n",
              "1                   NaN  \n",
              "2                   NaN  \n",
              "3                   NaN  \n",
              "4                   NaN  \n",
              "..                  ...  \n",
              "355                 NaN  \n",
              "356               529.3  \n",
              "357                 NaN  \n",
              "358                 NaN  \n",
              "359                 NaN  \n",
              "\n",
              "[360 rows x 16 columns]"
            ],
            "text/html": [
              "\n",
              "  <div id=\"df-81ba01ed-c8e8-4db5-b251-4078192cd3d7\">\n",
              "    <div class=\"colab-df-container\">\n",
              "      <div>\n",
              "<style scoped>\n",
              "    .dataframe tbody tr th:only-of-type {\n",
              "        vertical-align: middle;\n",
              "    }\n",
              "\n",
              "    .dataframe tbody tr th {\n",
              "        vertical-align: top;\n",
              "    }\n",
              "\n",
              "    .dataframe thead th {\n",
              "        text-align: right;\n",
              "    }\n",
              "</style>\n",
              "<table border=\"1\" class=\"dataframe\">\n",
              "  <thead>\n",
              "    <tr style=\"text-align: right;\">\n",
              "      <th></th>\n",
              "      <th>uf_busca</th>\n",
              "      <th>cidade_busca</th>\n",
              "      <th>universidade_nome</th>\n",
              "      <th>campus_nome</th>\n",
              "      <th>nome</th>\n",
              "      <th>grau</th>\n",
              "      <th>turno</th>\n",
              "      <th>mensalidade</th>\n",
              "      <th>bolsa_integral_cotas</th>\n",
              "      <th>bolsa_integral_ampla</th>\n",
              "      <th>bolsa_parcial_cotas</th>\n",
              "      <th>bolsa_parcial_ampla</th>\n",
              "      <th>nota_integral_ampla</th>\n",
              "      <th>nota_integral_cotas</th>\n",
              "      <th>nota_parcial_ampla</th>\n",
              "      <th>nota_parcial_cotas</th>\n",
              "    </tr>\n",
              "  </thead>\n",
              "  <tbody>\n",
              "    <tr>\n",
              "      <th>0</th>\n",
              "      <td>PB</td>\n",
              "      <td>Joao Pessoa</td>\n",
              "      <td>Centro Universitário de João Pessoa - Unipê - ...</td>\n",
              "      <td>CAMPUS UNIPÊ - Água Fria</td>\n",
              "      <td>Administração</td>\n",
              "      <td>Bacharelado</td>\n",
              "      <td>Matutino</td>\n",
              "      <td>529.00</td>\n",
              "      <td>5.0</td>\n",
              "      <td>4.0</td>\n",
              "      <td>NaN</td>\n",
              "      <td>NaN</td>\n",
              "      <td>609.94</td>\n",
              "      <td>607.20</td>\n",
              "      <td>NaN</td>\n",
              "      <td>NaN</td>\n",
              "    </tr>\n",
              "    <tr>\n",
              "      <th>1</th>\n",
              "      <td>PB</td>\n",
              "      <td>Joao Pessoa</td>\n",
              "      <td>Centro Universitário Internacional - Uninter -...</td>\n",
              "      <td>PAP JOÃO PESSOA 01 - Miramar</td>\n",
              "      <td>Administração</td>\n",
              "      <td>Bacharelado</td>\n",
              "      <td>Curso a Distância</td>\n",
              "      <td>298.00</td>\n",
              "      <td>1.0</td>\n",
              "      <td>NaN</td>\n",
              "      <td>NaN</td>\n",
              "      <td>NaN</td>\n",
              "      <td>582.64</td>\n",
              "      <td>NaN</td>\n",
              "      <td>NaN</td>\n",
              "      <td>NaN</td>\n",
              "    </tr>\n",
              "    <tr>\n",
              "      <th>2</th>\n",
              "      <td>PB</td>\n",
              "      <td>Joao Pessoa</td>\n",
              "      <td>Centro Universitário Internacional - Uninter -...</td>\n",
              "      <td>PAP JOÃO PESSOA 02 - Expedicionários</td>\n",
              "      <td>Administração</td>\n",
              "      <td>Bacharelado</td>\n",
              "      <td>Curso a Distância</td>\n",
              "      <td>298.00</td>\n",
              "      <td>NaN</td>\n",
              "      <td>NaN</td>\n",
              "      <td>1.0</td>\n",
              "      <td>NaN</td>\n",
              "      <td>NaN</td>\n",
              "      <td>NaN</td>\n",
              "      <td>547.80</td>\n",
              "      <td>NaN</td>\n",
              "    </tr>\n",
              "    <tr>\n",
              "      <th>3</th>\n",
              "      <td>PB</td>\n",
              "      <td>Joao Pessoa</td>\n",
              "      <td>Faculdade Devry João Pessoa - DVJP</td>\n",
              "      <td>CAMPUS SEDE - Miramar</td>\n",
              "      <td>Administração</td>\n",
              "      <td>Bacharelado</td>\n",
              "      <td>Noturno</td>\n",
              "      <td>864.67</td>\n",
              "      <td>NaN</td>\n",
              "      <td>NaN</td>\n",
              "      <td>NaN</td>\n",
              "      <td>100.0</td>\n",
              "      <td>NaN</td>\n",
              "      <td>NaN</td>\n",
              "      <td>450.00</td>\n",
              "      <td>NaN</td>\n",
              "    </tr>\n",
              "    <tr>\n",
              "      <th>4</th>\n",
              "      <td>PB</td>\n",
              "      <td>Joao Pessoa</td>\n",
              "      <td>Faculdade Devry João Pessoa - DVJP</td>\n",
              "      <td>CAMPUS SEDE - Miramar</td>\n",
              "      <td>Administração</td>\n",
              "      <td>Bacharelado</td>\n",
              "      <td>Matutino</td>\n",
              "      <td>864.67</td>\n",
              "      <td>NaN</td>\n",
              "      <td>NaN</td>\n",
              "      <td>NaN</td>\n",
              "      <td>100.0</td>\n",
              "      <td>NaN</td>\n",
              "      <td>NaN</td>\n",
              "      <td>450.00</td>\n",
              "      <td>NaN</td>\n",
              "    </tr>\n",
              "    <tr>\n",
              "      <th>...</th>\n",
              "      <td>...</td>\n",
              "      <td>...</td>\n",
              "      <td>...</td>\n",
              "      <td>...</td>\n",
              "      <td>...</td>\n",
              "      <td>...</td>\n",
              "      <td>...</td>\n",
              "      <td>...</td>\n",
              "      <td>...</td>\n",
              "      <td>...</td>\n",
              "      <td>...</td>\n",
              "      <td>...</td>\n",
              "      <td>...</td>\n",
              "      <td>...</td>\n",
              "      <td>...</td>\n",
              "      <td>...</td>\n",
              "    </tr>\n",
              "    <tr>\n",
              "      <th>355</th>\n",
              "      <td>PB</td>\n",
              "      <td>Joao Pessoa</td>\n",
              "      <td>Centro Universitário Internacional - Uninter -...</td>\n",
              "      <td>PAP JOÃO PESSOA 01 - Miramar</td>\n",
              "      <td>Teologia</td>\n",
              "      <td>Bacharelado</td>\n",
              "      <td>Curso a Distância</td>\n",
              "      <td>189.00</td>\n",
              "      <td>NaN</td>\n",
              "      <td>NaN</td>\n",
              "      <td>1.0</td>\n",
              "      <td>NaN</td>\n",
              "      <td>NaN</td>\n",
              "      <td>NaN</td>\n",
              "      <td>568.88</td>\n",
              "      <td>NaN</td>\n",
              "    </tr>\n",
              "    <tr>\n",
              "      <th>356</th>\n",
              "      <td>PB</td>\n",
              "      <td>Joao Pessoa</td>\n",
              "      <td>Centro Universitário Internacional - Uninter -...</td>\n",
              "      <td>PAP JOÃO PESSOA 02 - Expedicionários</td>\n",
              "      <td>Teologia</td>\n",
              "      <td>Bacharelado</td>\n",
              "      <td>Curso a Distância</td>\n",
              "      <td>189.00</td>\n",
              "      <td>1.0</td>\n",
              "      <td>NaN</td>\n",
              "      <td>1.0</td>\n",
              "      <td>1.0</td>\n",
              "      <td>631.42</td>\n",
              "      <td>NaN</td>\n",
              "      <td>604.00</td>\n",
              "      <td>529.3</td>\n",
              "    </tr>\n",
              "    <tr>\n",
              "      <th>357</th>\n",
              "      <td>PB</td>\n",
              "      <td>Joao Pessoa</td>\n",
              "      <td>Universidade Cruzeiro do Sul - UNICSUL</td>\n",
              "      <td>COESP - JOÃO PESSOA, PARAÍBA - Centro</td>\n",
              "      <td>Teologia</td>\n",
              "      <td>Bacharelado</td>\n",
              "      <td>Curso a Distância</td>\n",
              "      <td>256.86</td>\n",
              "      <td>NaN</td>\n",
              "      <td>NaN</td>\n",
              "      <td>1.0</td>\n",
              "      <td>NaN</td>\n",
              "      <td>NaN</td>\n",
              "      <td>NaN</td>\n",
              "      <td>561.42</td>\n",
              "      <td>NaN</td>\n",
              "    </tr>\n",
              "    <tr>\n",
              "      <th>358</th>\n",
              "      <td>PB</td>\n",
              "      <td>Joao Pessoa</td>\n",
              "      <td>Faculdade Paraíbana - FAP</td>\n",
              "      <td>CAMPUS  - JOÃO PESSOA - MIRAMAR - Miramar</td>\n",
              "      <td>Turismo</td>\n",
              "      <td>Bacharelado</td>\n",
              "      <td>Noturno</td>\n",
              "      <td>474.27</td>\n",
              "      <td>2.0</td>\n",
              "      <td>1.0</td>\n",
              "      <td>NaN</td>\n",
              "      <td>NaN</td>\n",
              "      <td>580.22</td>\n",
              "      <td>558.24</td>\n",
              "      <td>NaN</td>\n",
              "      <td>NaN</td>\n",
              "    </tr>\n",
              "    <tr>\n",
              "      <th>359</th>\n",
              "      <td>PB</td>\n",
              "      <td>Joao Pessoa</td>\n",
              "      <td>Instituto Paraibano de Ensino Renovado - INPER</td>\n",
              "      <td>CAMPUS  - JOÃO PESSOA - JARDIM MARIZÓPOLIS - J...</td>\n",
              "      <td>Turismo</td>\n",
              "      <td>Bacharelado</td>\n",
              "      <td>Noturno</td>\n",
              "      <td>560.89</td>\n",
              "      <td>2.0</td>\n",
              "      <td>1.0</td>\n",
              "      <td>NaN</td>\n",
              "      <td>NaN</td>\n",
              "      <td>591.16</td>\n",
              "      <td>548.48</td>\n",
              "      <td>NaN</td>\n",
              "      <td>NaN</td>\n",
              "    </tr>\n",
              "  </tbody>\n",
              "</table>\n",
              "<p>360 rows × 16 columns</p>\n",
              "</div>\n",
              "      <button class=\"colab-df-convert\" onclick=\"convertToInteractive('df-81ba01ed-c8e8-4db5-b251-4078192cd3d7')\"\n",
              "              title=\"Convert this dataframe to an interactive table.\"\n",
              "              style=\"display:none;\">\n",
              "        \n",
              "  <svg xmlns=\"http://www.w3.org/2000/svg\" height=\"24px\"viewBox=\"0 0 24 24\"\n",
              "       width=\"24px\">\n",
              "    <path d=\"M0 0h24v24H0V0z\" fill=\"none\"/>\n",
              "    <path d=\"M18.56 5.44l.94 2.06.94-2.06 2.06-.94-2.06-.94-.94-2.06-.94 2.06-2.06.94zm-11 1L8.5 8.5l.94-2.06 2.06-.94-2.06-.94L8.5 2.5l-.94 2.06-2.06.94zm10 10l.94 2.06.94-2.06 2.06-.94-2.06-.94-.94-2.06-.94 2.06-2.06.94z\"/><path d=\"M17.41 7.96l-1.37-1.37c-.4-.4-.92-.59-1.43-.59-.52 0-1.04.2-1.43.59L10.3 9.45l-7.72 7.72c-.78.78-.78 2.05 0 2.83L4 21.41c.39.39.9.59 1.41.59.51 0 1.02-.2 1.41-.59l7.78-7.78 2.81-2.81c.8-.78.8-2.07 0-2.86zM5.41 20L4 18.59l7.72-7.72 1.47 1.35L5.41 20z\"/>\n",
              "  </svg>\n",
              "      </button>\n",
              "      \n",
              "  <style>\n",
              "    .colab-df-container {\n",
              "      display:flex;\n",
              "      flex-wrap:wrap;\n",
              "      gap: 12px;\n",
              "    }\n",
              "\n",
              "    .colab-df-convert {\n",
              "      background-color: #E8F0FE;\n",
              "      border: none;\n",
              "      border-radius: 50%;\n",
              "      cursor: pointer;\n",
              "      display: none;\n",
              "      fill: #1967D2;\n",
              "      height: 32px;\n",
              "      padding: 0 0 0 0;\n",
              "      width: 32px;\n",
              "    }\n",
              "\n",
              "    .colab-df-convert:hover {\n",
              "      background-color: #E2EBFA;\n",
              "      box-shadow: 0px 1px 2px rgba(60, 64, 67, 0.3), 0px 1px 3px 1px rgba(60, 64, 67, 0.15);\n",
              "      fill: #174EA6;\n",
              "    }\n",
              "\n",
              "    [theme=dark] .colab-df-convert {\n",
              "      background-color: #3B4455;\n",
              "      fill: #D2E3FC;\n",
              "    }\n",
              "\n",
              "    [theme=dark] .colab-df-convert:hover {\n",
              "      background-color: #434B5C;\n",
              "      box-shadow: 0px 1px 3px 1px rgba(0, 0, 0, 0.15);\n",
              "      filter: drop-shadow(0px 1px 2px rgba(0, 0, 0, 0.3));\n",
              "      fill: #FFFFFF;\n",
              "    }\n",
              "  </style>\n",
              "\n",
              "      <script>\n",
              "        const buttonEl =\n",
              "          document.querySelector('#df-81ba01ed-c8e8-4db5-b251-4078192cd3d7 button.colab-df-convert');\n",
              "        buttonEl.style.display =\n",
              "          google.colab.kernel.accessAllowed ? 'block' : 'none';\n",
              "\n",
              "        async function convertToInteractive(key) {\n",
              "          const element = document.querySelector('#df-81ba01ed-c8e8-4db5-b251-4078192cd3d7');\n",
              "          const dataTable =\n",
              "            await google.colab.kernel.invokeFunction('convertToInteractive',\n",
              "                                                     [key], {});\n",
              "          if (!dataTable) return;\n",
              "\n",
              "          const docLinkHtml = 'Like what you see? Visit the ' +\n",
              "            '<a target=\"_blank\" href=https://colab.research.google.com/notebooks/data_table.ipynb>data table notebook</a>'\n",
              "            + ' to learn more about interactive tables.';\n",
              "          element.innerHTML = '';\n",
              "          dataTable['output_type'] = 'display_data';\n",
              "          await google.colab.output.renderOutput(dataTable, element);\n",
              "          const docLink = document.createElement('div');\n",
              "          docLink.innerHTML = docLinkHtml;\n",
              "          element.appendChild(docLink);\n",
              "        }\n",
              "      </script>\n",
              "    </div>\n",
              "  </div>\n",
              "  "
            ]
          },
          "metadata": {},
          "execution_count": 42
        }
      ]
    },
    {
      "cell_type": "code",
      "metadata": {
        "id": "S8MRUuLbQpGE"
      },
      "source": [
        "#valor média das instituições da PB\n",
        "df.mensalidade.mean()"
      ],
      "execution_count": null,
      "outputs": []
    },
    {
      "cell_type": "code",
      "metadata": {
        "id": "vqZsTc35UAaY"
      },
      "source": [
        "#valor mediana das instituições da PB\n",
        "df.mensalidade.median()"
      ],
      "execution_count": null,
      "outputs": []
    },
    {
      "cell_type": "code",
      "metadata": {
        "id": "3-1DOjt3UJZ7"
      },
      "source": [
        "#desvio padrao das instituições da PB\n",
        "df.mensalidade.std()"
      ],
      "execution_count": null,
      "outputs": []
    },
    {
      "cell_type": "code",
      "metadata": {
        "id": "lKwf8lllUO-m"
      },
      "source": [
        "#moda das instituições da PB\n",
        "df.mensalidade.mode()"
      ],
      "execution_count": null,
      "outputs": []
    },
    {
      "cell_type": "markdown",
      "metadata": {
        "id": "HgACVAnRbgqd"
      },
      "source": [
        "---------"
      ]
    },
    {
      "cell_type": "markdown",
      "metadata": {
        "id": "wb6RLejfoB_T"
      },
      "source": [
        "Desafio B"
      ]
    },
    {
      "cell_type": "code",
      "metadata": {
        "id": "j5ybD4fdUSrQ"
      },
      "source": [
        "df.columns"
      ],
      "execution_count": null,
      "outputs": []
    },
    {
      "cell_type": "code",
      "metadata": {
        "id": "HLy8QrWQbjYF"
      },
      "source": [
        "#A\n",
        "type(df)"
      ],
      "execution_count": null,
      "outputs": []
    },
    {
      "cell_type": "code",
      "metadata": {
        "id": "c9vzBxWYb9lw"
      },
      "source": [
        "#B\n",
        "df.shape"
      ],
      "execution_count": null,
      "outputs": []
    },
    {
      "cell_type": "code",
      "metadata": {
        "id": "2ODP3Dk6cNxm"
      },
      "source": [
        "#C\n",
        "df.universidade_nome.nunique()"
      ],
      "execution_count": null,
      "outputs": []
    },
    {
      "cell_type": "code",
      "metadata": {
        "id": "B80t2fITcWVz"
      },
      "source": [
        "#D\n",
        "df.nome.nunique()"
      ],
      "execution_count": null,
      "outputs": []
    },
    {
      "cell_type": "code",
      "metadata": {
        "id": "CGP6GWR8ecKx"
      },
      "source": [
        "#E\n",
        "df.universidade_nome[(df.nome=='Ciência da Computação') | (df.nome=='Ciências da Computação')].unique()"
      ],
      "execution_count": null,
      "outputs": []
    },
    {
      "cell_type": "code",
      "metadata": {
        "id": "wyaiO1jieOAB"
      },
      "source": [
        "#F\n",
        "df.mensalidade[(df.nome=='Ciência da Computação') | (df.nome=='Ciências da Computação')].mean()"
      ],
      "execution_count": null,
      "outputs": []
    },
    {
      "cell_type": "markdown",
      "metadata": {
        "id": "W8a3gyFUy1da"
      },
      "source": [
        "\n",
        "\n",
        "---\n",
        "\n"
      ]
    },
    {
      "cell_type": "markdown",
      "metadata": {
        "id": "9nr2YbaXoGWh"
      },
      "source": [
        "Desafio C"
      ]
    },
    {
      "cell_type": "code",
      "metadata": {
        "id": "_Yff7MxDyzuu"
      },
      "source": [
        "#Desafio C - Detecção de outliers\n",
        "df.isna().mean()"
      ],
      "execution_count": null,
      "outputs": []
    },
    {
      "cell_type": "code",
      "metadata": {
        "id": "v5LBrHgQzFOL"
      },
      "source": [
        "#Estratégia 1\n",
        "print(\"média da mensalidade: \",df.mensalidade.mean())\n",
        "print(\"mediana da mensalidade: \",df.mensalidade.median())\n",
        "\n",
        "print(\"\\nmédia da nota_integral_ampla: \",df.nota_integral_ampla.mean())\n",
        "print(\"mediana da nota_integral_ampla: \",df.nota_integral_ampla.median())\n",
        "\n",
        "print(\"\\nmédia da nota_integral_cotas: \",df.nota_integral_cotas.mean())\n",
        "print(\"mediana da nota_integral_cotas: \",df.nota_integral_cotas.median())"
      ],
      "execution_count": null,
      "outputs": []
    },
    {
      "cell_type": "code",
      "metadata": {
        "id": "M0r6JDXZy0py"
      },
      "source": [
        "#Estratégia 2\n",
        "print(\"desvio padrão da mensalidade: \",df.mensalidade.std())\n",
        "print(\"\\ndesvio padrão da nota_integral_ampla: \",df.nota_integral_ampla.std())\n",
        "print(\"\\ndesvio padrão da nota_integral_cotas: \",df.nota_integral_cotas.std())"
      ],
      "execution_count": null,
      "outputs": []
    },
    {
      "cell_type": "code",
      "metadata": {
        "id": "lhwDMoOc3D3T"
      },
      "source": [
        "#Estratégia 3\n",
        "from scipy import stats\n",
        "import numpy as np\n",
        "\n",
        "df['zscore_mensalidade'] = np.abs(stats.zscore(df.mensalidade))\n",
        "df['zscore_nota_integral_ampla'] = np.abs(stats.zscore(df.nota_integral_ampla))\n",
        "df['zscore_nota_integral_cotas'] = np.abs(stats.zscore(df.nota_integral_cotas))"
      ],
      "execution_count": null,
      "outputs": []
    },
    {
      "cell_type": "code",
      "metadata": {
        "id": "azyXdjY439-1"
      },
      "source": [
        "df.zscore_mensalidade[(df.zscore_mensalidade> 3) | (df.zscore_mensalidade <-3)].count()"
      ],
      "execution_count": null,
      "outputs": []
    },
    {
      "cell_type": "code",
      "metadata": {
        "id": "EK9AlUMw30X0"
      },
      "source": [
        "df.zscore_nota_integral_ampla[(df.zscore_nota_integral_ampla> 3) | (df.zscore_nota_integral_ampla <-3)].count()"
      ],
      "execution_count": null,
      "outputs": []
    },
    {
      "cell_type": "code",
      "metadata": {
        "id": "TkNL7cTg4ra0"
      },
      "source": [
        "df.zscore_nota_integral_cotas[(df.zscore_nota_integral_cotas> 3) | (df.zscore_nota_integral_cotas <-3)].count()"
      ],
      "execution_count": null,
      "outputs": []
    },
    {
      "cell_type": "code",
      "metadata": {
        "id": "tS_vNAIg4vLt",
        "colab": {
          "base_uri": "https://localhost:8080/",
          "height": 282
        },
        "outputId": "e363bb7f-5879-4789-db68-9542e118a569"
      },
      "source": [
        "#Estratégia 4 - Boxplot\n",
        "\n",
        "import seaborn as sns\n",
        "import matplotlib.pyplot as plt\n",
        "\n",
        "sns.boxplot(data=df.mensalidade)"
      ],
      "execution_count": 54,
      "outputs": [
        {
          "output_type": "execute_result",
          "data": {
            "text/plain": [
              "<matplotlib.axes._subplots.AxesSubplot at 0x7f61113fbc50>"
            ]
          },
          "metadata": {},
          "execution_count": 54
        },
        {
          "output_type": "display_data",
          "data": {
            "text/plain": [
              "<Figure size 432x288 with 1 Axes>"
            ],
            "image/png": "[encoded data removed]"
          },
          "metadata": {
            "needs_background": "light"
          }
        }
      ]
    },
    {
      "cell_type": "code",
      "metadata": {
        "id": "V5Vf4Cg146nk"
      },
      "source": [
        "sns.boxplot(data=df.nota_integral_ampla)"
      ],
      "execution_count": null,
      "outputs": []
    },
    {
      "cell_type": "code",
      "metadata": {
        "id": "Up_jZGrh5AFT"
      },
      "source": [
        "sns.boxplot(data=df.nota_integral_cotas)"
      ],
      "execution_count": null,
      "outputs": []
    },
    {
      "cell_type": "markdown",
      "metadata": {
        "id": "RrknyWkv6afV"
      },
      "source": [
        "Tratando os outliers"
      ]
    },
    {
      "cell_type": "code",
      "metadata": {
        "id": "AyUGTIhy5DSu"
      },
      "source": [
        "#Estratégia 1\n",
        "df_semOutliers1 = df[(df.zscore_mensalidade<3) & (df.zscore_mensalidade> -3)]"
      ],
      "execution_count": null,
      "outputs": []
    },
    {
      "cell_type": "code",
      "metadata": {
        "id": "VBqgCv-R6kto"
      },
      "source": [
        "#Estratégia 2\n",
        "df_semOutliers2 =  df\n",
        "df_semOutliers2.mensalidade = np.where((df_semOutliers2.zscore_mensalidade>3) | (df_semOutliers2.zscore_mensalidade<-3), \n",
        "                                       df_semOutliers2.mensalidade.mean(), \n",
        "                                       df_semOutliers2.mensalidade)\n"
      ],
      "execution_count": null,
      "outputs": []
    },
    {
      "cell_type": "code",
      "metadata": {
        "id": "FkTTzBPY7Pwl"
      },
      "source": [
        "#Estratégia 3\n",
        "df_semOutliers3 = df\n",
        "df_semOutliers3 = df_semOutliers3[df_semOutliers3.mensalidade.between(df.mensalidade.quantile(.25), df.mensalidade.quantile(.75))]\n",
        "print(df_semOutliers3.shape)\n",
        "print(max(df_semOutliers3.mensalidade))"
      ],
      "execution_count": null,
      "outputs": []
    },
    {
      "cell_type": "code",
      "metadata": {
        "id": "59IjylC78E2D"
      },
      "source": [
        "print(df.shape)\n",
        "print(max(df.mensalidade))"
      ],
      "execution_count": null,
      "outputs": []
    },
    {
      "cell_type": "markdown",
      "metadata": {
        "id": "rKmFjuiaBu4a"
      },
      "source": [
        "\n",
        "\n",
        "---\n",
        "\n"
      ]
    },
    {
      "cell_type": "markdown",
      "metadata": {
        "id": "P2D4D35Im7Bm"
      },
      "source": [
        "**Desafio H**"
      ]
    },
    {
      "cell_type": "code",
      "metadata": {
        "id": "uKl949KgmyyH"
      },
      "source": [
        "#####amostragem aleatória com repetição\n",
        "amostra_simples_com_repeticao1 = df.sample(1000, replace=True ) #remover subscrito"
      ],
      "execution_count": 61,
      "outputs": []
    },
    {
      "cell_type": "code",
      "metadata": {
        "id": "Ah8S6TSvm_6n",
        "colab": {
          "base_uri": "https://localhost:8080/"
        },
        "outputId": "7a78aad1-371c-4959-9151-d029bf54095d"
      },
      "source": [
        "#mostre alguns valores de amostra_simples_com_repeticao e se há alguma linha duplicada\n",
        "amostra_simples_com_repeticao1.value_counts()"
      ],
      "execution_count": 65,
      "outputs": [
        {
          "output_type": "execute_result",
          "data": {
            "text/plain": [
              "uf_busca  cidade_busca  universidade_nome                                  campus_nome                      nome      grau         turno     mensalidade  bolsa_integral_cotas  bolsa_integral_ampla  bolsa_parcial_cotas  bolsa_parcial_ampla  nota_integral_ampla  nota_integral_cotas  nota_parcial_ampla  nota_parcial_cotas\n",
              "PB        Joao Pessoa   Faculdade de Ciências Médicas da Paraíba - FCM-PB  LADEIRA DE S FRANCISCO - Centro  Medicina  Bacharelado  Integral  7412.7       8.0                   5.0                   5.0                  3.0                  754.98               733.6                748.78              727.58                4\n",
              "dtype: int64"
            ]
          },
          "metadata": {},
          "execution_count": 65
        }
      ]
    },
    {
      "cell_type": "code",
      "metadata": {
        "id": "TBjcMPdVmgTb"
      },
      "source": [
        "#####amostragem aleatória sem repetição\n",
        "amostra_simples_sem_repeticao = df.sample(100) #remover subscrito"
      ],
      "execution_count": 66,
      "outputs": []
    },
    {
      "cell_type": "code",
      "metadata": {
        "id": "X7GvonuemsGW",
        "colab": {
          "base_uri": "https://localhost:8080/"
        },
        "outputId": "b602cc2f-d90e-4e39-9c54-60eb85d981e2"
      },
      "source": [
        "#mostre alguns valores de amostra_simples_sem_repeticao e se há alguma linha duplicada\n",
        "amostra_simples_sem_repeticao.value_counts()"
      ],
      "execution_count": 67,
      "outputs": [
        {
          "output_type": "execute_result",
          "data": {
            "text/plain": [
              "Series([], dtype: int64)"
            ]
          },
          "metadata": {},
          "execution_count": 67
        }
      ]
    },
    {
      "cell_type": "code",
      "metadata": {
        "id": "D0Pnhwy4nikB"
      },
      "source": [
        "#####amostragem estratificada\n",
        "from sklearn.model_selection import train_test_split\n",
        "\n",
        "X = df.drop('cidade_busca', axis=1)\n",
        "y = df['cidade_busca']\n",
        "\n",
        "X_train, X_test, y_train, y_test = train_test_split( X, y, test_size=0.3, stratify=y) #remover subscrito"
      ],
      "execution_count": 68,
      "outputs": []
    },
    {
      "cell_type": "code",
      "metadata": {
        "id": "6B1s9Z6Ep5Gb",
        "colab": {
          "base_uri": "https://localhost:8080/",
          "height": 956
        },
        "outputId": "ec6fc211-a5ce-4850-b5d3-be87a43cbf37"
      },
      "source": [
        "#mostre o formato da amostra de treino\n",
        "df"
      ],
      "execution_count": 69,
      "outputs": [
        {
          "output_type": "execute_result",
          "data": {
            "text/plain": [
              "    uf_busca cidade_busca                                  universidade_nome  \\\n",
              "0         PB  Joao Pessoa  Centro Universitário de João Pessoa - Unipê - ...   \n",
              "1         PB  Joao Pessoa  Centro Universitário Internacional - Uninter -...   \n",
              "2         PB  Joao Pessoa  Centro Universitário Internacional - Uninter -...   \n",
              "3         PB  Joao Pessoa                 Faculdade Devry João Pessoa - DVJP   \n",
              "4         PB  Joao Pessoa                 Faculdade Devry João Pessoa - DVJP   \n",
              "..       ...          ...                                                ...   \n",
              "355       PB  Joao Pessoa  Centro Universitário Internacional - Uninter -...   \n",
              "356       PB  Joao Pessoa  Centro Universitário Internacional - Uninter -...   \n",
              "357       PB  Joao Pessoa             Universidade Cruzeiro do Sul - UNICSUL   \n",
              "358       PB  Joao Pessoa                          Faculdade Paraíbana - FAP   \n",
              "359       PB  Joao Pessoa     Instituto Paraibano de Ensino Renovado - INPER   \n",
              "\n",
              "                                           campus_nome           nome  \\\n",
              "0                             CAMPUS UNIPÊ - Água Fria  Administração   \n",
              "1                         PAP JOÃO PESSOA 01 - Miramar  Administração   \n",
              "2                 PAP JOÃO PESSOA 02 - Expedicionários  Administração   \n",
              "3                                CAMPUS SEDE - Miramar  Administração   \n",
              "4                                CAMPUS SEDE - Miramar  Administração   \n",
              "..                                                 ...            ...   \n",
              "355                       PAP JOÃO PESSOA 01 - Miramar       Teologia   \n",
              "356               PAP JOÃO PESSOA 02 - Expedicionários       Teologia   \n",
              "357              COESP - JOÃO PESSOA, PARAÍBA - Centro       Teologia   \n",
              "358          CAMPUS  - JOÃO PESSOA - MIRAMAR - Miramar        Turismo   \n",
              "359  CAMPUS  - JOÃO PESSOA - JARDIM MARIZÓPOLIS - J...        Turismo   \n",
              "\n",
              "            grau              turno  mensalidade  bolsa_integral_cotas  \\\n",
              "0    Bacharelado           Matutino       529.00                   5.0   \n",
              "1    Bacharelado  Curso a Distância       298.00                   1.0   \n",
              "2    Bacharelado  Curso a Distância       298.00                   NaN   \n",
              "3    Bacharelado            Noturno       864.67                   NaN   \n",
              "4    Bacharelado           Matutino       864.67                   NaN   \n",
              "..           ...                ...          ...                   ...   \n",
              "355  Bacharelado  Curso a Distância       189.00                   NaN   \n",
              "356  Bacharelado  Curso a Distância       189.00                   1.0   \n",
              "357  Bacharelado  Curso a Distância       256.86                   NaN   \n",
              "358  Bacharelado            Noturno       474.27                   2.0   \n",
              "359  Bacharelado            Noturno       560.89                   2.0   \n",
              "\n",
              "     bolsa_integral_ampla  bolsa_parcial_cotas  bolsa_parcial_ampla  \\\n",
              "0                     4.0                  NaN                  NaN   \n",
              "1                     NaN                  NaN                  NaN   \n",
              "2                     NaN                  1.0                  NaN   \n",
              "3                     NaN                  NaN                100.0   \n",
              "4                     NaN                  NaN                100.0   \n",
              "..                    ...                  ...                  ...   \n",
              "355                   NaN                  1.0                  NaN   \n",
              "356                   NaN                  1.0                  1.0   \n",
              "357                   NaN                  1.0                  NaN   \n",
              "358                   1.0                  NaN                  NaN   \n",
              "359                   1.0                  NaN                  NaN   \n",
              "\n",
              "     nota_integral_ampla  nota_integral_cotas  nota_parcial_ampla  \\\n",
              "0                 609.94               607.20                 NaN   \n",
              "1                 582.64                  NaN                 NaN   \n",
              "2                    NaN                  NaN              547.80   \n",
              "3                    NaN                  NaN              450.00   \n",
              "4                    NaN                  NaN              450.00   \n",
              "..                   ...                  ...                 ...   \n",
              "355                  NaN                  NaN              568.88   \n",
              "356               631.42                  NaN              604.00   \n",
              "357                  NaN                  NaN              561.42   \n",
              "358               580.22               558.24                 NaN   \n",
              "359               591.16               548.48                 NaN   \n",
              "\n",
              "     nota_parcial_cotas  \n",
              "0                   NaN  \n",
              "1                   NaN  \n",
              "2                   NaN  \n",
              "3                   NaN  \n",
              "4                   NaN  \n",
              "..                  ...  \n",
              "355                 NaN  \n",
              "356               529.3  \n",
              "357                 NaN  \n",
              "358                 NaN  \n",
              "359                 NaN  \n",
              "\n",
              "[360 rows x 16 columns]"
            ],
            "text/html": [
              "\n",
              "  <div id=\"df-bee466b4-52a5-4b50-a4e5-ab85083dcbb9\">\n",
              "    <div class=\"colab-df-container\">\n",
              "      <div>\n",
              "<style scoped>\n",
              "    .dataframe tbody tr th:only-of-type {\n",
              "        vertical-align: middle;\n",
              "    }\n",
              "\n",
              "    .dataframe tbody tr th {\n",
              "        vertical-align: top;\n",
              "    }\n",
              "\n",
              "    .dataframe thead th {\n",
              "        text-align: right;\n",
              "    }\n",
              "</style>\n",
              "<table border=\"1\" class=\"dataframe\">\n",
              "  <thead>\n",
              "    <tr style=\"text-align: right;\">\n",
              "      <th></th>\n",
              "      <th>uf_busca</th>\n",
              "      <th>cidade_busca</th>\n",
              "      <th>universidade_nome</th>\n",
              "      <th>campus_nome</th>\n",
              "      <th>nome</th>\n",
              "      <th>grau</th>\n",
              "      <th>turno</th>\n",
              "      <th>mensalidade</th>\n",
              "      <th>bolsa_integral_cotas</th>\n",
              "      <th>bolsa_integral_ampla</th>\n",
              "      <th>bolsa_parcial_cotas</th>\n",
              "      <th>bolsa_parcial_ampla</th>\n",
              "      <th>nota_integral_ampla</th>\n",
              "      <th>nota_integral_cotas</th>\n",
              "      <th>nota_parcial_ampla</th>\n",
              "      <th>nota_parcial_cotas</th>\n",
              "    </tr>\n",
              "  </thead>\n",
              "  <tbody>\n",
              "    <tr>\n",
              "      <th>0</th>\n",
              "      <td>PB</td>\n",
              "      <td>Joao Pessoa</td>\n",
              "      <td>Centro Universitário de João Pessoa - Unipê - ...</td>\n",
              "      <td>CAMPUS UNIPÊ - Água Fria</td>\n",
              "      <td>Administração</td>\n",
              "      <td>Bacharelado</td>\n",
              "      <td>Matutino</td>\n",
              "      <td>529.00</td>\n",
              "      <td>5.0</td>\n",
              "      <td>4.0</td>\n",
              "      <td>NaN</td>\n",
              "      <td>NaN</td>\n",
              "      <td>609.94</td>\n",
              "      <td>607.20</td>\n",
              "      <td>NaN</td>\n",
              "      <td>NaN</td>\n",
              "    </tr>\n",
              "    <tr>\n",
              "      <th>1</th>\n",
              "      <td>PB</td>\n",
              "      <td>Joao Pessoa</td>\n",
              "      <td>Centro Universitário Internacional - Uninter -...</td>\n",
              "      <td>PAP JOÃO PESSOA 01 - Miramar</td>\n",
              "      <td>Administração</td>\n",
              "      <td>Bacharelado</td>\n",
              "      <td>Curso a Distância</td>\n",
              "      <td>298.00</td>\n",
              "      <td>1.0</td>\n",
              "      <td>NaN</td>\n",
              "      <td>NaN</td>\n",
              "      <td>NaN</td>\n",
              "      <td>582.64</td>\n",
              "      <td>NaN</td>\n",
              "      <td>NaN</td>\n",
              "      <td>NaN</td>\n",
              "    </tr>\n",
              "    <tr>\n",
              "      <th>2</th>\n",
              "      <td>PB</td>\n",
              "      <td>Joao Pessoa</td>\n",
              "      <td>Centro Universitário Internacional - Uninter -...</td>\n",
              "      <td>PAP JOÃO PESSOA 02 - Expedicionários</td>\n",
              "      <td>Administração</td>\n",
              "      <td>Bacharelado</td>\n",
              "      <td>Curso a Distância</td>\n",
              "      <td>298.00</td>\n",
              "      <td>NaN</td>\n",
              "      <td>NaN</td>\n",
              "      <td>1.0</td>\n",
              "      <td>NaN</td>\n",
              "      <td>NaN</td>\n",
              "      <td>NaN</td>\n",
              "      <td>547.80</td>\n",
              "      <td>NaN</td>\n",
              "    </tr>\n",
              "    <tr>\n",
              "      <th>3</th>\n",
              "      <td>PB</td>\n",
              "      <td>Joao Pessoa</td>\n",
              "      <td>Faculdade Devry João Pessoa - DVJP</td>\n",
              "      <td>CAMPUS SEDE - Miramar</td>\n",
              "      <td>Administração</td>\n",
              "      <td>Bacharelado</td>\n",
              "      <td>Noturno</td>\n",
              "      <td>864.67</td>\n",
              "      <td>NaN</td>\n",
              "      <td>NaN</td>\n",
              "      <td>NaN</td>\n",
              "      <td>100.0</td>\n",
              "      <td>NaN</td>\n",
              "      <td>NaN</td>\n",
              "      <td>450.00</td>\n",
              "      <td>NaN</td>\n",
              "    </tr>\n",
              "    <tr>\n",
              "      <th>4</th>\n",
              "      <td>PB</td>\n",
              "      <td>Joao Pessoa</td>\n",
              "      <td>Faculdade Devry João Pessoa - DVJP</td>\n",
              "      <td>CAMPUS SEDE - Miramar</td>\n",
              "      <td>Administração</td>\n",
              "      <td>Bacharelado</td>\n",
              "      <td>Matutino</td>\n",
              "      <td>864.67</td>\n",
              "      <td>NaN</td>\n",
              "      <td>NaN</td>\n",
              "      <td>NaN</td>\n",
              "      <td>100.0</td>\n",
              "      <td>NaN</td>\n",
              "      <td>NaN</td>\n",
              "      <td>450.00</td>\n",
              "      <td>NaN</td>\n",
              "    </tr>\n",
              "    <tr>\n",
              "      <th>...</th>\n",
              "      <td>...</td>\n",
              "      <td>...</td>\n",
              "      <td>...</td>\n",
              "      <td>...</td>\n",
              "      <td>...</td>\n",
              "      <td>...</td>\n",
              "      <td>...</td>\n",
              "      <td>...</td>\n",
              "      <td>...</td>\n",
              "      <td>...</td>\n",
              "      <td>...</td>\n",
              "      <td>...</td>\n",
              "      <td>...</td>\n",
              "      <td>...</td>\n",
              "      <td>...</td>\n",
              "      <td>...</td>\n",
              "    </tr>\n",
              "    <tr>\n",
              "      <th>355</th>\n",
              "      <td>PB</td>\n",
              "      <td>Joao Pessoa</td>\n",
              "      <td>Centro Universitário Internacional - Uninter -...</td>\n",
              "      <td>PAP JOÃO PESSOA 01 - Miramar</td>\n",
              "      <td>Teologia</td>\n",
              "      <td>Bacharelado</td>\n",
              "      <td>Curso a Distância</td>\n",
              "      <td>189.00</td>\n",
              "      <td>NaN</td>\n",
              "      <td>NaN</td>\n",
              "      <td>1.0</td>\n",
              "      <td>NaN</td>\n",
              "      <td>NaN</td>\n",
              "      <td>NaN</td>\n",
              "      <td>568.88</td>\n",
              "      <td>NaN</td>\n",
              "    </tr>\n",
              "    <tr>\n",
              "      <th>356</th>\n",
              "      <td>PB</td>\n",
              "      <td>Joao Pessoa</td>\n",
              "      <td>Centro Universitário Internacional - Uninter -...</td>\n",
              "      <td>PAP JOÃO PESSOA 02 - Expedicionários</td>\n",
              "      <td>Teologia</td>\n",
              "      <td>Bacharelado</td>\n",
              "      <td>Curso a Distância</td>\n",
              "      <td>189.00</td>\n",
              "      <td>1.0</td>\n",
              "      <td>NaN</td>\n",
              "      <td>1.0</td>\n",
              "      <td>1.0</td>\n",
              "      <td>631.42</td>\n",
              "      <td>NaN</td>\n",
              "      <td>604.00</td>\n",
              "      <td>529.3</td>\n",
              "    </tr>\n",
              "    <tr>\n",
              "      <th>357</th>\n",
              "      <td>PB</td>\n",
              "      <td>Joao Pessoa</td>\n",
              "      <td>Universidade Cruzeiro do Sul - UNICSUL</td>\n",
              "      <td>COESP - JOÃO PESSOA, PARAÍBA - Centro</td>\n",
              "      <td>Teologia</td>\n",
              "      <td>Bacharelado</td>\n",
              "      <td>Curso a Distância</td>\n",
              "      <td>256.86</td>\n",
              "      <td>NaN</td>\n",
              "      <td>NaN</td>\n",
              "      <td>1.0</td>\n",
              "      <td>NaN</td>\n",
              "      <td>NaN</td>\n",
              "      <td>NaN</td>\n",
              "      <td>561.42</td>\n",
              "      <td>NaN</td>\n",
              "    </tr>\n",
              "    <tr>\n",
              "      <th>358</th>\n",
              "      <td>PB</td>\n",
              "      <td>Joao Pessoa</td>\n",
              "      <td>Faculdade Paraíbana - FAP</td>\n",
              "      <td>CAMPUS  - JOÃO PESSOA - MIRAMAR - Miramar</td>\n",
              "      <td>Turismo</td>\n",
              "      <td>Bacharelado</td>\n",
              "      <td>Noturno</td>\n",
              "      <td>474.27</td>\n",
              "      <td>2.0</td>\n",
              "      <td>1.0</td>\n",
              "      <td>NaN</td>\n",
              "      <td>NaN</td>\n",
              "      <td>580.22</td>\n",
              "      <td>558.24</td>\n",
              "      <td>NaN</td>\n",
              "      <td>NaN</td>\n",
              "    </tr>\n",
              "    <tr>\n",
              "      <th>359</th>\n",
              "      <td>PB</td>\n",
              "      <td>Joao Pessoa</td>\n",
              "      <td>Instituto Paraibano de Ensino Renovado - INPER</td>\n",
              "      <td>CAMPUS  - JOÃO PESSOA - JARDIM MARIZÓPOLIS - J...</td>\n",
              "      <td>Turismo</td>\n",
              "      <td>Bacharelado</td>\n",
              "      <td>Noturno</td>\n",
              "      <td>560.89</td>\n",
              "      <td>2.0</td>\n",
              "      <td>1.0</td>\n",
              "      <td>NaN</td>\n",
              "      <td>NaN</td>\n",
              "      <td>591.16</td>\n",
              "      <td>548.48</td>\n",
              "      <td>NaN</td>\n",
              "      <td>NaN</td>\n",
              "    </tr>\n",
              "  </tbody>\n",
              "</table>\n",
              "<p>360 rows × 16 columns</p>\n",
              "</div>\n",
              "      <button class=\"colab-df-convert\" onclick=\"convertToInteractive('df-bee466b4-52a5-4b50-a4e5-ab85083dcbb9')\"\n",
              "              title=\"Convert this dataframe to an interactive table.\"\n",
              "              style=\"display:none;\">\n",
              "        \n",
              "  <svg xmlns=\"http://www.w3.org/2000/svg\" height=\"24px\"viewBox=\"0 0 24 24\"\n",
              "       width=\"24px\">\n",
              "    <path d=\"M0 0h24v24H0V0z\" fill=\"none\"/>\n",
              "    <path d=\"M18.56 5.44l.94 2.06.94-2.06 2.06-.94-2.06-.94-.94-2.06-.94 2.06-2.06.94zm-11 1L8.5 8.5l.94-2.06 2.06-.94-2.06-.94L8.5 2.5l-.94 2.06-2.06.94zm10 10l.94 2.06.94-2.06 2.06-.94-2.06-.94-.94-2.06-.94 2.06-2.06.94z\"/><path d=\"M17.41 7.96l-1.37-1.37c-.4-.4-.92-.59-1.43-.59-.52 0-1.04.2-1.43.59L10.3 9.45l-7.72 7.72c-.78.78-.78 2.05 0 2.83L4 21.41c.39.39.9.59 1.41.59.51 0 1.02-.2 1.41-.59l7.78-7.78 2.81-2.81c.8-.78.8-2.07 0-2.86zM5.41 20L4 18.59l7.72-7.72 1.47 1.35L5.41 20z\"/>\n",
              "  </svg>\n",
              "      </button>\n",
              "      \n",
              "  <style>\n",
              "    .colab-df-container {\n",
              "      display:flex;\n",
              "      flex-wrap:wrap;\n",
              "      gap: 12px;\n",
              "    }\n",
              "\n",
              "    .colab-df-convert {\n",
              "      background-color: #E8F0FE;\n",
              "      border: none;\n",
              "      border-radius: 50%;\n",
              "      cursor: pointer;\n",
              "      display: none;\n",
              "      fill: #1967D2;\n",
              "      height: 32px;\n",
              "      padding: 0 0 0 0;\n",
              "      width: 32px;\n",
              "    }\n",
              "\n",
              "    .colab-df-convert:hover {\n",
              "      background-color: #E2EBFA;\n",
              "      box-shadow: 0px 1px 2px rgba(60, 64, 67, 0.3), 0px 1px 3px 1px rgba(60, 64, 67, 0.15);\n",
              "      fill: #174EA6;\n",
              "    }\n",
              "\n",
              "    [theme=dark] .colab-df-convert {\n",
              "      background-color: #3B4455;\n",
              "      fill: #D2E3FC;\n",
              "    }\n",
              "\n",
              "    [theme=dark] .colab-df-convert:hover {\n",
              "      background-color: #434B5C;\n",
              "      box-shadow: 0px 1px 3px 1px rgba(0, 0, 0, 0.15);\n",
              "      filter: drop-shadow(0px 1px 2px rgba(0, 0, 0, 0.3));\n",
              "      fill: #FFFFFF;\n",
              "    }\n",
              "  </style>\n",
              "\n",
              "      <script>\n",
              "        const buttonEl =\n",
              "          document.querySelector('#df-bee466b4-52a5-4b50-a4e5-ab85083dcbb9 button.colab-df-convert');\n",
              "        buttonEl.style.display =\n",
              "          google.colab.kernel.accessAllowed ? 'block' : 'none';\n",
              "\n",
              "        async function convertToInteractive(key) {\n",
              "          const element = document.querySelector('#df-bee466b4-52a5-4b50-a4e5-ab85083dcbb9');\n",
              "          const dataTable =\n",
              "            await google.colab.kernel.invokeFunction('convertToInteractive',\n",
              "                                                     [key], {});\n",
              "          if (!dataTable) return;\n",
              "\n",
              "          const docLinkHtml = 'Like what you see? Visit the ' +\n",
              "            '<a target=\"_blank\" href=https://colab.research.google.com/notebooks/data_table.ipynb>data table notebook</a>'\n",
              "            + ' to learn more about interactive tables.';\n",
              "          element.innerHTML = '';\n",
              "          dataTable['output_type'] = 'display_data';\n",
              "          await google.colab.output.renderOutput(dataTable, element);\n",
              "          const docLink = document.createElement('div');\n",
              "          docLink.innerHTML = docLinkHtml;\n",
              "          element.appendChild(docLink);\n",
              "        }\n",
              "      </script>\n",
              "    </div>\n",
              "  </div>\n",
              "  "
            ]
          },
          "metadata": {},
          "execution_count": 69
        }
      ]
    },
    {
      "cell_type": "code",
      "metadata": {
        "id": "Q-gd0j9pQ5pv"
      },
      "source": [
        "#mostre algumas linhas dessa amostra de treino\n"
      ],
      "execution_count": null,
      "outputs": []
    },
    {
      "cell_type": "code",
      "metadata": {
        "id": "071YKmwkp-W5"
      },
      "source": [
        "#mostre o formato da amostra de teste\n"
      ],
      "execution_count": null,
      "outputs": []
    },
    {
      "cell_type": "code",
      "metadata": {
        "id": "VGAaIPAcQ9H0"
      },
      "source": [
        "#mostre algumas linhas dessa amostra de teste\n"
      ],
      "execution_count": null,
      "outputs": []
    },
    {
      "cell_type": "code",
      "metadata": {
        "id": "faTRCHqNRGdw"
      },
      "source": [
        "#####amostragem por conglomerados\n",
        "#crie grupos de acordo com o grau do curso\n",
        "grupo = df.groupby('grau').apply(pd.DataFrame.sample, frac=.1) #remover subscrito"
      ],
      "execution_count": 70,
      "outputs": []
    },
    {
      "cell_type": "code",
      "metadata": {
        "id": "CuJdhM69rknO"
      },
      "source": [
        "#Crie uma amostra com curso do grau Bacharelado\n",
        "amostra_Bacharelado = grupo[grupo.grau  =='Bacharelado'] #remover subscrito"
      ],
      "execution_count": 71,
      "outputs": []
    },
    {
      "cell_type": "code",
      "metadata": {
        "id": "LJnZMKfIr0TW",
        "colab": {
          "base_uri": "https://localhost:8080/",
          "height": 545
        },
        "outputId": "c4696762-455e-45e5-f120-5b4742a18ea2"
      },
      "source": [
        "#mostre as 5 primeiras linhas de amostra_Bacharelado\n",
        "#amostra_Bacharelado.count()\n",
        "amostra_Bacharelado.head()"
      ],
      "execution_count": 75,
      "outputs": [
        {
          "output_type": "execute_result",
          "data": {
            "text/plain": [
              "                uf_busca cidade_busca  \\\n",
              "grau                                    \n",
              "Bacharelado 16        PB  Joao Pessoa   \n",
              "            153       PB  Joao Pessoa   \n",
              "            48        PB  Joao Pessoa   \n",
              "            59        PB  Joao Pessoa   \n",
              "            76        PB  Joao Pessoa   \n",
              "\n",
              "                                                universidade_nome  \\\n",
              "grau                                                                \n",
              "Bacharelado 16   Instituto de Educação Superior da Paraíba - IESP   \n",
              "            153          Faculdade Internacional da Paraíba - FPB   \n",
              "            48           Faculdade Internacional da Paraíba - FPB   \n",
              "            59                 Faculdade Devry João Pessoa - DVJP   \n",
              "            76             Universidade Cruzeiro do Sul - UNICSUL   \n",
              "\n",
              "                                           campus_nome  \\\n",
              "grau                                                     \n",
              "Bacharelado 16   CAMPUS  - JOÃO PESSOA - BESSA - BESSA   \n",
              "            153                  UNIDADE SEDE - Tambiá   \n",
              "            48                   UNIDADE SEDE - Tambiá   \n",
              "            59                   CAMPUS SEDE - Miramar   \n",
              "            76   COESP - JOÃO PESSOA, PARAÍBA - Centro   \n",
              "\n",
              "                                   nome         grau              turno  \\\n",
              "grau                                                                      \n",
              "Bacharelado 16            Administração  Bacharelado           Matutino   \n",
              "            153  Engenharia de Produção  Bacharelado           Matutino   \n",
              "            48              Biomedicina  Bacharelado           Matutino   \n",
              "            59       Ciências Contábeis  Bacharelado           Matutino   \n",
              "            76      Ciências Econômicas  Bacharelado  Curso a Distância   \n",
              "\n",
              "                 mensalidade  bolsa_integral_cotas  bolsa_integral_ampla  \\\n",
              "grau                                                                       \n",
              "Bacharelado 16        520.20                   2.0                   1.0   \n",
              "            153       821.00                   4.0                   2.0   \n",
              "            48        761.34                   3.0                   2.0   \n",
              "            59        864.67                   NaN                   NaN   \n",
              "            76        289.97                   NaN                   NaN   \n",
              "\n",
              "                 bolsa_parcial_cotas  bolsa_parcial_ampla  \\\n",
              "grau                                                        \n",
              "Bacharelado 16                   NaN                  NaN   \n",
              "            153                  NaN                  NaN   \n",
              "            48                   NaN                  NaN   \n",
              "            59                   NaN                100.0   \n",
              "            76                   1.0                  NaN   \n",
              "\n",
              "                 nota_integral_ampla  nota_integral_cotas  nota_parcial_ampla  \\\n",
              "grau                                                                            \n",
              "Bacharelado 16                579.40               581.56                 NaN   \n",
              "            153               631.02               605.12                 NaN   \n",
              "            48                615.16               611.90                 NaN   \n",
              "            59                   NaN                  NaN              450.00   \n",
              "            76                   NaN                  NaN              592.44   \n",
              "\n",
              "                 nota_parcial_cotas  \n",
              "grau                                 \n",
              "Bacharelado 16                  NaN  \n",
              "            153                 NaN  \n",
              "            48                  NaN  \n",
              "            59                  NaN  \n",
              "            76                  NaN  "
            ],
            "text/html": [
              "\n",
              "  <div id=\"df-2000f4b7-a931-426b-8282-373120f9f2d7\">\n",
              "    <div class=\"colab-df-container\">\n",
              "      <div>\n",
              "<style scoped>\n",
              "    .dataframe tbody tr th:only-of-type {\n",
              "        vertical-align: middle;\n",
              "    }\n",
              "\n",
              "    .dataframe tbody tr th {\n",
              "        vertical-align: top;\n",
              "    }\n",
              "\n",
              "    .dataframe thead th {\n",
              "        text-align: right;\n",
              "    }\n",
              "</style>\n",
              "<table border=\"1\" class=\"dataframe\">\n",
              "  <thead>\n",
              "    <tr style=\"text-align: right;\">\n",
              "      <th></th>\n",
              "      <th></th>\n",
              "      <th>uf_busca</th>\n",
              "      <th>cidade_busca</th>\n",
              "      <th>universidade_nome</th>\n",
              "      <th>campus_nome</th>\n",
              "      <th>nome</th>\n",
              "      <th>grau</th>\n",
              "      <th>turno</th>\n",
              "      <th>mensalidade</th>\n",
              "      <th>bolsa_integral_cotas</th>\n",
              "      <th>bolsa_integral_ampla</th>\n",
              "      <th>bolsa_parcial_cotas</th>\n",
              "      <th>bolsa_parcial_ampla</th>\n",
              "      <th>nota_integral_ampla</th>\n",
              "      <th>nota_integral_cotas</th>\n",
              "      <th>nota_parcial_ampla</th>\n",
              "      <th>nota_parcial_cotas</th>\n",
              "    </tr>\n",
              "    <tr>\n",
              "      <th>grau</th>\n",
              "      <th></th>\n",
              "      <th></th>\n",
              "      <th></th>\n",
              "      <th></th>\n",
              "      <th></th>\n",
              "      <th></th>\n",
              "      <th></th>\n",
              "      <th></th>\n",
              "      <th></th>\n",
              "      <th></th>\n",
              "      <th></th>\n",
              "      <th></th>\n",
              "      <th></th>\n",
              "      <th></th>\n",
              "      <th></th>\n",
              "      <th></th>\n",
              "      <th></th>\n",
              "    </tr>\n",
              "  </thead>\n",
              "  <tbody>\n",
              "    <tr>\n",
              "      <th rowspan=\"5\" valign=\"top\">Bacharelado</th>\n",
              "      <th>16</th>\n",
              "      <td>PB</td>\n",
              "      <td>Joao Pessoa</td>\n",
              "      <td>Instituto de Educação Superior da Paraíba - IESP</td>\n",
              "      <td>CAMPUS  - JOÃO PESSOA - BESSA - BESSA</td>\n",
              "      <td>Administração</td>\n",
              "      <td>Bacharelado</td>\n",
              "      <td>Matutino</td>\n",
              "      <td>520.20</td>\n",
              "      <td>2.0</td>\n",
              "      <td>1.0</td>\n",
              "      <td>NaN</td>\n",
              "      <td>NaN</td>\n",
              "      <td>579.40</td>\n",
              "      <td>581.56</td>\n",
              "      <td>NaN</td>\n",
              "      <td>NaN</td>\n",
              "    </tr>\n",
              "    <tr>\n",
              "      <th>153</th>\n",
              "      <td>PB</td>\n",
              "      <td>Joao Pessoa</td>\n",
              "      <td>Faculdade Internacional da Paraíba - FPB</td>\n",
              "      <td>UNIDADE SEDE - Tambiá</td>\n",
              "      <td>Engenharia de Produção</td>\n",
              "      <td>Bacharelado</td>\n",
              "      <td>Matutino</td>\n",
              "      <td>821.00</td>\n",
              "      <td>4.0</td>\n",
              "      <td>2.0</td>\n",
              "      <td>NaN</td>\n",
              "      <td>NaN</td>\n",
              "      <td>631.02</td>\n",
              "      <td>605.12</td>\n",
              "      <td>NaN</td>\n",
              "      <td>NaN</td>\n",
              "    </tr>\n",
              "    <tr>\n",
              "      <th>48</th>\n",
              "      <td>PB</td>\n",
              "      <td>Joao Pessoa</td>\n",
              "      <td>Faculdade Internacional da Paraíba - FPB</td>\n",
              "      <td>UNIDADE SEDE - Tambiá</td>\n",
              "      <td>Biomedicina</td>\n",
              "      <td>Bacharelado</td>\n",
              "      <td>Matutino</td>\n",
              "      <td>761.34</td>\n",
              "      <td>3.0</td>\n",
              "      <td>2.0</td>\n",
              "      <td>NaN</td>\n",
              "      <td>NaN</td>\n",
              "      <td>615.16</td>\n",
              "      <td>611.90</td>\n",
              "      <td>NaN</td>\n",
              "      <td>NaN</td>\n",
              "    </tr>\n",
              "    <tr>\n",
              "      <th>59</th>\n",
              "      <td>PB</td>\n",
              "      <td>Joao Pessoa</td>\n",
              "      <td>Faculdade Devry João Pessoa - DVJP</td>\n",
              "      <td>CAMPUS SEDE - Miramar</td>\n",
              "      <td>Ciências Contábeis</td>\n",
              "      <td>Bacharelado</td>\n",
              "      <td>Matutino</td>\n",
              "      <td>864.67</td>\n",
              "      <td>NaN</td>\n",
              "      <td>NaN</td>\n",
              "      <td>NaN</td>\n",
              "      <td>100.0</td>\n",
              "      <td>NaN</td>\n",
              "      <td>NaN</td>\n",
              "      <td>450.00</td>\n",
              "      <td>NaN</td>\n",
              "    </tr>\n",
              "    <tr>\n",
              "      <th>76</th>\n",
              "      <td>PB</td>\n",
              "      <td>Joao Pessoa</td>\n",
              "      <td>Universidade Cruzeiro do Sul - UNICSUL</td>\n",
              "      <td>COESP - JOÃO PESSOA, PARAÍBA - Centro</td>\n",
              "      <td>Ciências Econômicas</td>\n",
              "      <td>Bacharelado</td>\n",
              "      <td>Curso a Distância</td>\n",
              "      <td>289.97</td>\n",
              "      <td>NaN</td>\n",
              "      <td>NaN</td>\n",
              "      <td>1.0</td>\n",
              "      <td>NaN</td>\n",
              "      <td>NaN</td>\n",
              "      <td>NaN</td>\n",
              "      <td>592.44</td>\n",
              "      <td>NaN</td>\n",
              "    </tr>\n",
              "  </tbody>\n",
              "</table>\n",
              "</div>\n",
              "      <button class=\"colab-df-convert\" onclick=\"convertToInteractive('df-2000f4b7-a931-426b-8282-373120f9f2d7')\"\n",
              "              title=\"Convert this dataframe to an interactive table.\"\n",
              "              style=\"display:none;\">\n",
              "        \n",
              "  <svg xmlns=\"http://www.w3.org/2000/svg\" height=\"24px\"viewBox=\"0 0 24 24\"\n",
              "       width=\"24px\">\n",
              "    <path d=\"M0 0h24v24H0V0z\" fill=\"none\"/>\n",
              "    <path d=\"M18.56 5.44l.94 2.06.94-2.06 2.06-.94-2.06-.94-.94-2.06-.94 2.06-2.06.94zm-11 1L8.5 8.5l.94-2.06 2.06-.94-2.06-.94L8.5 2.5l-.94 2.06-2.06.94zm10 10l.94 2.06.94-2.06 2.06-.94-2.06-.94-.94-2.06-.94 2.06-2.06.94z\"/><path d=\"M17.41 7.96l-1.37-1.37c-.4-.4-.92-.59-1.43-.59-.52 0-1.04.2-1.43.59L10.3 9.45l-7.72 7.72c-.78.78-.78 2.05 0 2.83L4 21.41c.39.39.9.59 1.41.59.51 0 1.02-.2 1.41-.59l7.78-7.78 2.81-2.81c.8-.78.8-2.07 0-2.86zM5.41 20L4 18.59l7.72-7.72 1.47 1.35L5.41 20z\"/>\n",
              "  </svg>\n",
              "      </button>\n",
              "      \n",
              "  <style>\n",
              "    .colab-df-container {\n",
              "      display:flex;\n",
              "      flex-wrap:wrap;\n",
              "      gap: 12px;\n",
              "    }\n",
              "\n",
              "    .colab-df-convert {\n",
              "      background-color: #E8F0FE;\n",
              "      border: none;\n",
              "      border-radius: 50%;\n",
              "      cursor: pointer;\n",
              "      display: none;\n",
              "      fill: #1967D2;\n",
              "      height: 32px;\n",
              "      padding: 0 0 0 0;\n",
              "      width: 32px;\n",
              "    }\n",
              "\n",
              "    .colab-df-convert:hover {\n",
              "      background-color: #E2EBFA;\n",
              "      box-shadow: 0px 1px 2px rgba(60, 64, 67, 0.3), 0px 1px 3px 1px rgba(60, 64, 67, 0.15);\n",
              "      fill: #174EA6;\n",
              "    }\n",
              "\n",
              "    [theme=dark] .colab-df-convert {\n",
              "      background-color: #3B4455;\n",
              "      fill: #D2E3FC;\n",
              "    }\n",
              "\n",
              "    [theme=dark] .colab-df-convert:hover {\n",
              "      background-color: #434B5C;\n",
              "      box-shadow: 0px 1px 3px 1px rgba(0, 0, 0, 0.15);\n",
              "      filter: drop-shadow(0px 1px 2px rgba(0, 0, 0, 0.3));\n",
              "      fill: #FFFFFF;\n",
              "    }\n",
              "  </style>\n",
              "\n",
              "      <script>\n",
              "        const buttonEl =\n",
              "          document.querySelector('#df-2000f4b7-a931-426b-8282-373120f9f2d7 button.colab-df-convert');\n",
              "        buttonEl.style.display =\n",
              "          google.colab.kernel.accessAllowed ? 'block' : 'none';\n",
              "\n",
              "        async function convertToInteractive(key) {\n",
              "          const element = document.querySelector('#df-2000f4b7-a931-426b-8282-373120f9f2d7');\n",
              "          const dataTable =\n",
              "            await google.colab.kernel.invokeFunction('convertToInteractive',\n",
              "                                                     [key], {});\n",
              "          if (!dataTable) return;\n",
              "\n",
              "          const docLinkHtml = 'Like what you see? Visit the ' +\n",
              "            '<a target=\"_blank\" href=https://colab.research.google.com/notebooks/data_table.ipynb>data table notebook</a>'\n",
              "            + ' to learn more about interactive tables.';\n",
              "          element.innerHTML = '';\n",
              "          dataTable['output_type'] = 'display_data';\n",
              "          await google.colab.output.renderOutput(dataTable, element);\n",
              "          const docLink = document.createElement('div');\n",
              "          docLink.innerHTML = docLinkHtml;\n",
              "          element.appendChild(docLink);\n",
              "        }\n",
              "      </script>\n",
              "    </div>\n",
              "  </div>\n",
              "  "
            ]
          },
          "metadata": {},
          "execution_count": 75
        }
      ]
    },
    {
      "cell_type": "code",
      "metadata": {
        "id": "s9ZMucviXimq"
      },
      "source": [
        "#####amostra sistemática\n",
        "#gere 1 número aleatório entre 0 e 5\n",
        "intervalo = np.random.choice(5, 1)\n",
        "\n",
        "# Gere um array que inicia em 0 e termina no tamanho final de df com um intervalo \n",
        "#pré-definido pelo valor randômico:\n",
        "indices = np.arange(___,len(__doc__) ,intervalo) #remover subscrito"
      ],
      "execution_count": null,
      "outputs": []
    },
    {
      "cell_type": "code",
      "metadata": {
        "id": "KzSEPrpQsao2"
      },
      "source": [
        "#crie a amostra_sistematica baseado nos índices que você definiu previamente\n",
        "amostra_sistematica = df.loc[___] #remover subscrito"
      ],
      "execution_count": null,
      "outputs": []
    },
    {
      "cell_type": "code",
      "metadata": {
        "id": "5Dsr0SwNsvCy"
      },
      "source": [
        "#mostre a amostra_sistematica"
      ],
      "execution_count": null,
      "outputs": []
    }
  ]
}