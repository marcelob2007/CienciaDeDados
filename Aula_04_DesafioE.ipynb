{
  "nbformat": 4,
  "nbformat_minor": 0,
  "metadata": {
    "colab": {
      "name": "Aula_04_DesafioE.ipynb",
      "provenance": [],
      "collapsed_sections": [],
      "include_colab_link": true
    },
    "kernelspec": {
      "name": "python3",
      "display_name": "Python 3"
    }
  },
  "cells": [
    {
      "cell_type": "markdown",
      "metadata": {
        "id": "view-in-github",
        "colab_type": "text"
      },
      "source": [
        "<a href=\"https://colab.research.google.com/github/marcelob2007/CienciaDeDados/blob/main/Aula_04_DesafioE.ipynb\" target=\"_parent\"><img src=\"https://colab.research.google.com/assets/colab-badge.svg\" alt=\"Open In Colab\"/></a>"
      ]
    },
    {
      "cell_type": "code",
      "metadata": {
        "id": "3hrLRd5pP5bK"
      },
      "source": [
        "import pandas as pd\n",
        "df = pd.read_csv('https://raw.githubusercontent.com/Alinemm/DMIE-2020.1/master/DesafioA-cursos-prouni-pb-jpa.csv')"
      ],
      "execution_count": 11,
      "outputs": []
    },
    {
      "cell_type": "code",
      "metadata": {
        "id": "JLNZoTgJQf2W"
      },
      "source": [
        "df.head(3)"
      ],
      "execution_count": null,
      "outputs": []
    },
    {
      "cell_type": "code",
      "metadata": {
        "id": "S8MRUuLbQpGE"
      },
      "source": [
        "#valor média das instituições da PB\n",
        "df.mensalidade.mean()"
      ],
      "execution_count": null,
      "outputs": []
    },
    {
      "cell_type": "code",
      "metadata": {
        "id": "vqZsTc35UAaY"
      },
      "source": [
        "#valor mediana das instituições da PB\n",
        "df.mensalidade.median()"
      ],
      "execution_count": null,
      "outputs": []
    },
    {
      "cell_type": "code",
      "metadata": {
        "id": "3-1DOjt3UJZ7"
      },
      "source": [
        "#desvio padrao das instituições da PB\n",
        "df.mensalidade.std()"
      ],
      "execution_count": null,
      "outputs": []
    },
    {
      "cell_type": "code",
      "metadata": {
        "id": "lKwf8lllUO-m"
      },
      "source": [
        "#moda das instituições da PB\n",
        "df.mensalidade.mode()"
      ],
      "execution_count": null,
      "outputs": []
    },
    {
      "cell_type": "markdown",
      "metadata": {
        "id": "HgACVAnRbgqd"
      },
      "source": [
        "---------"
      ]
    },
    {
      "cell_type": "markdown",
      "metadata": {
        "id": "UoBPLEIFnmmm"
      },
      "source": [
        "Desafio B"
      ]
    },
    {
      "cell_type": "code",
      "metadata": {
        "id": "j5ybD4fdUSrQ"
      },
      "source": [
        "df.columns"
      ],
      "execution_count": null,
      "outputs": []
    },
    {
      "cell_type": "code",
      "metadata": {
        "id": "HLy8QrWQbjYF"
      },
      "source": [
        "#A\n",
        "type(df)"
      ],
      "execution_count": null,
      "outputs": []
    },
    {
      "cell_type": "code",
      "metadata": {
        "id": "c9vzBxWYb9lw"
      },
      "source": [
        "#B\n",
        "df.shape"
      ],
      "execution_count": null,
      "outputs": []
    },
    {
      "cell_type": "code",
      "metadata": {
        "id": "2ODP3Dk6cNxm"
      },
      "source": [
        "#C\n",
        "df.universidade_nome.nunique()"
      ],
      "execution_count": null,
      "outputs": []
    },
    {
      "cell_type": "code",
      "metadata": {
        "id": "B80t2fITcWVz"
      },
      "source": [
        "#D\n",
        "df.nome.nunique()"
      ],
      "execution_count": null,
      "outputs": []
    },
    {
      "cell_type": "code",
      "metadata": {
        "id": "CGP6GWR8ecKx"
      },
      "source": [
        "#E\n",
        "df.universidade_nome[(df.nome=='Ciência da Computação') | (df.nome=='Ciências da Computação')].unique()"
      ],
      "execution_count": null,
      "outputs": []
    },
    {
      "cell_type": "code",
      "metadata": {
        "id": "wyaiO1jieOAB"
      },
      "source": [
        "#F\n",
        "df.mensalidade[(df.nome=='Ciência da Computação') | (df.nome=='Ciências da Computação')].mean()"
      ],
      "execution_count": null,
      "outputs": []
    },
    {
      "cell_type": "markdown",
      "metadata": {
        "id": "W8a3gyFUy1da"
      },
      "source": [
        "---\n"
      ]
    },
    {
      "cell_type": "markdown",
      "metadata": {
        "id": "MKDLga86nrce"
      },
      "source": [
        "Desafio C"
      ]
    },
    {
      "cell_type": "code",
      "metadata": {
        "id": "_Yff7MxDyzuu"
      },
      "source": [
        "#Desafio C - Detecção de outliers\n",
        "df.isna().mean()"
      ],
      "execution_count": null,
      "outputs": []
    },
    {
      "cell_type": "code",
      "metadata": {
        "id": "v5LBrHgQzFOL"
      },
      "source": [
        "#Estratégia 1\n",
        "print(\"média da mensalidade: \",df.mensalidade.mean())\n",
        "print(\"mediana da mensalidade: \",df.mensalidade.median())\n",
        "\n",
        "print(\"\\nmédia da nota_integral_ampla: \",df.nota_integral_ampla.mean())\n",
        "print(\"mediana da nota_integral_ampla: \",df.nota_integral_ampla.median())\n",
        "\n",
        "print(\"\\nmédia da nota_integral_cotas: \",df.nota_integral_cotas.mean())\n",
        "print(\"mediana da nota_integral_cotas: \",df.nota_integral_cotas.median())"
      ],
      "execution_count": null,
      "outputs": []
    },
    {
      "cell_type": "code",
      "metadata": {
        "id": "M0r6JDXZy0py"
      },
      "source": [
        "#Estratégia 2\n",
        "print(\"desvio padrão da mensalidade: \",df.mensalidade.std())\n",
        "print(\"\\ndesvio padrão da nota_integral_ampla: \",df.nota_integral_ampla.std())\n",
        "print(\"\\ndesvio padrão da nota_integral_cotas: \",df.nota_integral_cotas.std())"
      ],
      "execution_count": null,
      "outputs": []
    },
    {
      "cell_type": "code",
      "metadata": {
        "id": "lhwDMoOc3D3T"
      },
      "source": [
        "#Estratégia 3\n",
        "from scipy import stats\n",
        "import numpy as np\n",
        "\n",
        "df['zscore_mensalidade'] = np.abs(stats.zscore(df.mensalidade))\n",
        "df['zscore_nota_integral_ampla'] = np.abs(stats.zscore(df.nota_integral_ampla))\n",
        "df['zscore_nota_integral_cotas'] = np.abs(stats.zscore(df.nota_integral_cotas))"
      ],
      "execution_count": null,
      "outputs": []
    },
    {
      "cell_type": "code",
      "metadata": {
        "id": "azyXdjY439-1"
      },
      "source": [
        "df.zscore_mensalidade[(df.zscore_mensalidade> 3) | (df.zscore_mensalidade <-3)].count()"
      ],
      "execution_count": null,
      "outputs": []
    },
    {
      "cell_type": "code",
      "metadata": {
        "id": "EK9AlUMw30X0"
      },
      "source": [
        "df.zscore_nota_integral_ampla[(df.zscore_nota_integral_ampla> 3) | (df.zscore_nota_integral_ampla <-3)].count()"
      ],
      "execution_count": null,
      "outputs": []
    },
    {
      "cell_type": "code",
      "metadata": {
        "id": "TkNL7cTg4ra0"
      },
      "source": [
        "df.zscore_nota_integral_cotas[(df.zscore_nota_integral_cotas> 3) | (df.zscore_nota_integral_cotas <-3)].count()"
      ],
      "execution_count": null,
      "outputs": []
    },
    {
      "cell_type": "code",
      "metadata": {
        "id": "tS_vNAIg4vLt"
      },
      "source": [
        "#Estratégia 4 - Boxplot\n",
        "\n",
        "import seaborn as sns\n",
        "import matplotlib.pyplot as plt\n",
        "\n",
        "sns.boxplot(data=df.mensalidade)"
      ],
      "execution_count": null,
      "outputs": []
    },
    {
      "cell_type": "code",
      "metadata": {
        "id": "V5Vf4Cg146nk"
      },
      "source": [
        "sns.boxplot(data=df.nota_integral_ampla)"
      ],
      "execution_count": null,
      "outputs": []
    },
    {
      "cell_type": "code",
      "metadata": {
        "id": "Up_jZGrh5AFT"
      },
      "source": [
        "sns.boxplot(data=df.nota_integral_cotas)"
      ],
      "execution_count": null,
      "outputs": []
    },
    {
      "cell_type": "markdown",
      "metadata": {
        "id": "RrknyWkv6afV"
      },
      "source": [
        "Tratando os outliers"
      ]
    },
    {
      "cell_type": "code",
      "metadata": {
        "id": "AyUGTIhy5DSu"
      },
      "source": [
        "#Estratégia 1\n",
        "df_semOutliers1 = df[(df.zscore_mensalidade<3) & (df.zscore_mensalidade> -3)]"
      ],
      "execution_count": null,
      "outputs": []
    },
    {
      "cell_type": "code",
      "metadata": {
        "id": "VBqgCv-R6kto"
      },
      "source": [
        "#Estratégia 2\n",
        "df_semOutliers2 =  df\n",
        "df_semOutliers2.mensalidade = np.where((df_semOutliers2.zscore_mensalidade>3) | (df_semOutliers2.zscore_mensalidade<-3), \n",
        "                                       df_semOutliers2.mensalidade.mean(), \n",
        "                                       df_semOutliers2.mensalidade)\n"
      ],
      "execution_count": null,
      "outputs": []
    },
    {
      "cell_type": "code",
      "metadata": {
        "id": "FkTTzBPY7Pwl"
      },
      "source": [
        "#Estratégia 3\n",
        "df_semOutliers3 = df\n",
        "df_semOutliers3 = df_semOutliers3[df_semOutliers3.mensalidade.between(df.mensalidade.quantile(.25), df.mensalidade.quantile(.75))]\n",
        "print(df_semOutliers3.shape)\n",
        "print(max(df_semOutliers3.mensalidade))"
      ],
      "execution_count": null,
      "outputs": []
    },
    {
      "cell_type": "code",
      "metadata": {
        "id": "59IjylC78E2D"
      },
      "source": [
        "print(df.shape)\n",
        "print(max(df.mensalidade))\n"
      ],
      "execution_count": null,
      "outputs": []
    },
    {
      "cell_type": "markdown",
      "metadata": {
        "id": "rKmFjuiaBu4a"
      },
      "source": [
        "\n",
        "\n",
        "---\n",
        "\n"
      ]
    },
    {
      "cell_type": "markdown",
      "source": [
        ""
      ],
      "metadata": {
        "id": "ov4itJYnOXqV"
      }
    },
    {
      "cell_type": "markdown",
      "metadata": {
        "id": "Wpf71K9r668q"
      },
      "source": [
        "Desafio E"
      ]
    },
    {
      "cell_type": "code",
      "metadata": {
        "id": "Hu-CWauuFF5H",
        "outputId": "16b4f53d-3c53-494c-d283-0a884e1cb497",
        "colab": {
          "base_uri": "https://localhost:8080/"
        }
      },
      "source": [
        "#Descubra quais colunas são textuais e que seriam interessantes serem transformadas em numéricas\n",
        "df.grau"
      ],
      "execution_count": 12,
      "outputs": [
        {
          "output_type": "execute_result",
          "data": {
            "text/plain": [
              "0      Bacharelado\n",
              "1      Bacharelado\n",
              "2      Bacharelado\n",
              "3      Bacharelado\n",
              "4      Bacharelado\n",
              "          ...     \n",
              "355    Bacharelado\n",
              "356    Bacharelado\n",
              "357    Bacharelado\n",
              "358    Bacharelado\n",
              "359    Bacharelado\n",
              "Name: grau, Length: 360, dtype: object"
            ]
          },
          "metadata": {},
          "execution_count": 12
        }
      ]
    },
    {
      "cell_type": "code",
      "metadata": {
        "id": "X7W_XCL39kqG"
      },
      "source": [
        "# Para transformar uma variável qualitativa em quantitativa(do tipo dummy), use pd.get_dummies\n",
        "df = pd.get_dummies(df.grau)"
      ],
      "execution_count": 13,
      "outputs": []
    },
    {
      "cell_type": "code",
      "source": [
        "df.head()"
      ],
      "metadata": {
        "id": "C1guO1FsPec9",
        "outputId": "4abfe4ba-0643-4bc4-9f6b-032a55c220e8",
        "colab": {
          "base_uri": "https://localhost:8080/",
          "height": 206
        }
      },
      "execution_count": 16,
      "outputs": [
        {
          "output_type": "execute_result",
          "data": {
            "text/plain": [
              "   Bacharelado  Licenciatura  Tecnológico\n",
              "0            1             0            0\n",
              "1            1             0            0\n",
              "2            1             0            0\n",
              "3            1             0            0\n",
              "4            1             0            0"
            ],
            "text/html": [
              "\n",
              "  <div id=\"df-08b15597-c554-4b89-9b9a-d388537a1956\">\n",
              "    <div class=\"colab-df-container\">\n",
              "      <div>\n",
              "<style scoped>\n",
              "    .dataframe tbody tr th:only-of-type {\n",
              "        vertical-align: middle;\n",
              "    }\n",
              "\n",
              "    .dataframe tbody tr th {\n",
              "        vertical-align: top;\n",
              "    }\n",
              "\n",
              "    .dataframe thead th {\n",
              "        text-align: right;\n",
              "    }\n",
              "</style>\n",
              "<table border=\"1\" class=\"dataframe\">\n",
              "  <thead>\n",
              "    <tr style=\"text-align: right;\">\n",
              "      <th></th>\n",
              "      <th>Bacharelado</th>\n",
              "      <th>Licenciatura</th>\n",
              "      <th>Tecnológico</th>\n",
              "    </tr>\n",
              "  </thead>\n",
              "  <tbody>\n",
              "    <tr>\n",
              "      <th>0</th>\n",
              "      <td>1</td>\n",
              "      <td>0</td>\n",
              "      <td>0</td>\n",
              "    </tr>\n",
              "    <tr>\n",
              "      <th>1</th>\n",
              "      <td>1</td>\n",
              "      <td>0</td>\n",
              "      <td>0</td>\n",
              "    </tr>\n",
              "    <tr>\n",
              "      <th>2</th>\n",
              "      <td>1</td>\n",
              "      <td>0</td>\n",
              "      <td>0</td>\n",
              "    </tr>\n",
              "    <tr>\n",
              "      <th>3</th>\n",
              "      <td>1</td>\n",
              "      <td>0</td>\n",
              "      <td>0</td>\n",
              "    </tr>\n",
              "    <tr>\n",
              "      <th>4</th>\n",
              "      <td>1</td>\n",
              "      <td>0</td>\n",
              "      <td>0</td>\n",
              "    </tr>\n",
              "  </tbody>\n",
              "</table>\n",
              "</div>\n",
              "      <button class=\"colab-df-convert\" onclick=\"convertToInteractive('df-08b15597-c554-4b89-9b9a-d388537a1956')\"\n",
              "              title=\"Convert this dataframe to an interactive table.\"\n",
              "              style=\"display:none;\">\n",
              "        \n",
              "  <svg xmlns=\"http://www.w3.org/2000/svg\" height=\"24px\"viewBox=\"0 0 24 24\"\n",
              "       width=\"24px\">\n",
              "    <path d=\"M0 0h24v24H0V0z\" fill=\"none\"/>\n",
              "    <path d=\"M18.56 5.44l.94 2.06.94-2.06 2.06-.94-2.06-.94-.94-2.06-.94 2.06-2.06.94zm-11 1L8.5 8.5l.94-2.06 2.06-.94-2.06-.94L8.5 2.5l-.94 2.06-2.06.94zm10 10l.94 2.06.94-2.06 2.06-.94-2.06-.94-.94-2.06-.94 2.06-2.06.94z\"/><path d=\"M17.41 7.96l-1.37-1.37c-.4-.4-.92-.59-1.43-.59-.52 0-1.04.2-1.43.59L10.3 9.45l-7.72 7.72c-.78.78-.78 2.05 0 2.83L4 21.41c.39.39.9.59 1.41.59.51 0 1.02-.2 1.41-.59l7.78-7.78 2.81-2.81c.8-.78.8-2.07 0-2.86zM5.41 20L4 18.59l7.72-7.72 1.47 1.35L5.41 20z\"/>\n",
              "  </svg>\n",
              "      </button>\n",
              "      \n",
              "  <style>\n",
              "    .colab-df-container {\n",
              "      display:flex;\n",
              "      flex-wrap:wrap;\n",
              "      gap: 12px;\n",
              "    }\n",
              "\n",
              "    .colab-df-convert {\n",
              "      background-color: #E8F0FE;\n",
              "      border: none;\n",
              "      border-radius: 50%;\n",
              "      cursor: pointer;\n",
              "      display: none;\n",
              "      fill: #1967D2;\n",
              "      height: 32px;\n",
              "      padding: 0 0 0 0;\n",
              "      width: 32px;\n",
              "    }\n",
              "\n",
              "    .colab-df-convert:hover {\n",
              "      background-color: #E2EBFA;\n",
              "      box-shadow: 0px 1px 2px rgba(60, 64, 67, 0.3), 0px 1px 3px 1px rgba(60, 64, 67, 0.15);\n",
              "      fill: #174EA6;\n",
              "    }\n",
              "\n",
              "    [theme=dark] .colab-df-convert {\n",
              "      background-color: #3B4455;\n",
              "      fill: #D2E3FC;\n",
              "    }\n",
              "\n",
              "    [theme=dark] .colab-df-convert:hover {\n",
              "      background-color: #434B5C;\n",
              "      box-shadow: 0px 1px 3px 1px rgba(0, 0, 0, 0.15);\n",
              "      filter: drop-shadow(0px 1px 2px rgba(0, 0, 0, 0.3));\n",
              "      fill: #FFFFFF;\n",
              "    }\n",
              "  </style>\n",
              "\n",
              "      <script>\n",
              "        const buttonEl =\n",
              "          document.querySelector('#df-08b15597-c554-4b89-9b9a-d388537a1956 button.colab-df-convert');\n",
              "        buttonEl.style.display =\n",
              "          google.colab.kernel.accessAllowed ? 'block' : 'none';\n",
              "\n",
              "        async function convertToInteractive(key) {\n",
              "          const element = document.querySelector('#df-08b15597-c554-4b89-9b9a-d388537a1956');\n",
              "          const dataTable =\n",
              "            await google.colab.kernel.invokeFunction('convertToInteractive',\n",
              "                                                     [key], {});\n",
              "          if (!dataTable) return;\n",
              "\n",
              "          const docLinkHtml = 'Like what you see? Visit the ' +\n",
              "            '<a target=\"_blank\" href=https://colab.research.google.com/notebooks/data_table.ipynb>data table notebook</a>'\n",
              "            + ' to learn more about interactive tables.';\n",
              "          element.innerHTML = '';\n",
              "          dataTable['output_type'] = 'display_data';\n",
              "          await google.colab.output.renderOutput(dataTable, element);\n",
              "          const docLink = document.createElement('div');\n",
              "          docLink.innerHTML = docLinkHtml;\n",
              "          element.appendChild(docLink);\n",
              "        }\n",
              "      </script>\n",
              "    </div>\n",
              "  </div>\n",
              "  "
            ]
          },
          "metadata": {},
          "execution_count": 16
        }
      ]
    }
  ]
}